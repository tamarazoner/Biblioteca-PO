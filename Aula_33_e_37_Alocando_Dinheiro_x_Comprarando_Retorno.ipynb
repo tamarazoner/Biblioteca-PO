{
  "nbformat": 4,
  "nbformat_minor": 0,
  "metadata": {
    "colab": {
      "provenance": [],
      "toc_visible": true,
      "authorship_tag": "ABX9TyN57k1mg5D4YAmr8DNF9B1X",
      "include_colab_link": true
    },
    "kernelspec": {
      "name": "python3",
      "display_name": "Python 3"
    },
    "language_info": {
      "name": "python"
    }
  },
  "cells": [
    {
      "cell_type": "markdown",
      "metadata": {
        "id": "view-in-github",
        "colab_type": "text"
      },
      "source": [
        "<a href=\"https://colab.research.google.com/github/tamarazoner/Biblioteca-PO/blob/master/Aula_33_e_37_Alocando_Dinheiro_x_Comprarando_Retorno.ipynb\" target=\"_parent\"><img src=\"https://colab.research.google.com/assets/colab-badge.svg\" alt=\"Open In Colab\"/></a>"
      ]
    },
    {
      "cell_type": "code",
      "metadata": {
        "id": "1DNWt98bU4bz"
      },
      "source": [
        "import pandas as pd\n",
        "import numpy as np\n",
        "from pandas_datareader import data as dt\n",
        "import datetime\n",
        "#!pip install yfinance\n",
        "import yfinance as y\n",
        "import matplotlib.pyplot as plt\n",
        "%matplotlib inline"
      ],
      "execution_count": null,
      "outputs": []
    },
    {
      "cell_type": "markdown",
      "metadata": {
        "id": "RuclCk-aV57m"
      },
      "source": [
        "# Alocação da Carteira"
      ]
    },
    {
      "cell_type": "markdown",
      "metadata": {
        "id": "nrSoZpOLV9uY"
      },
      "source": [
        "## Alocação da Carteira"
      ]
    },
    {
      "cell_type": "markdown",
      "source": [],
      "metadata": {
        "id": "BLUDjBcw_FM2"
      }
    },
    {
      "cell_type": "markdown",
      "metadata": {
        "id": "0qoiacrXV22B"
      },
      "source": [
        "### Variáveis que recebe o tempo desejado"
      ]
    },
    {
      "cell_type": "code",
      "metadata": {
        "id": "9PGaZ25VU9kw"
      },
      "source": [
        "start = datetime.datetime(2018,1,1)\n",
        "end = datetime.datetime(2020,1,1)"
      ],
      "execution_count": null,
      "outputs": []
    },
    {
      "cell_type": "markdown",
      "metadata": {
        "id": "IJ3lM_uhVyol"
      },
      "source": [
        "### Criação da Lista do Carteira"
      ]
    },
    {
      "cell_type": "code",
      "metadata": {
        "id": "VwQSXTE3VBPa",
        "colab": {
          "base_uri": "https://localhost:8080/"
        },
        "outputId": "24718d98-f4f0-4295-829a-ac123e590533"
      },
      "source": [
        "petr = y.download('petr4.sa', start, end)\n",
        "vale = y.download('vale3.sa', start, end)\n",
        "itub = y.download('itub4.sa', start, end)\n",
        "wege = y.download('wege3.sa', start, end)\n",
        "ibov = y.download('^bvsp', start, end)\n",
        "\n",
        "#petr = dt.get_data_yahoo('petr4.sa', start, end)\n",
        "#vale = dt.get_data_yahoo('vale3.sa', start, end)\n",
        "#itub = dt.get_data_yahoo('itub4.sa', start, end)\n",
        "#wege = dt.get_data_yahoo('wege3.sa', start, end)\n",
        "#ibov = dt.get_data_yahoo('^bvsp', start, end)"
      ],
      "execution_count": null,
      "outputs": [
        {
          "output_type": "stream",
          "name": "stdout",
          "text": [
            "[*********************100%***********************]  1 of 1 completed\n",
            "[*********************100%***********************]  1 of 1 completed\n",
            "[*********************100%***********************]  1 of 1 completed\n",
            "[*********************100%***********************]  1 of 1 completed\n",
            "[*********************100%***********************]  1 of 1 completed\n"
          ]
        }
      ]
    },
    {
      "cell_type": "code",
      "metadata": {
        "colab": {
          "base_uri": "https://localhost:8080/",
          "height": 455
        },
        "id": "QKRjo9kzWJtd",
        "outputId": "3254f0c0-d007-4417-8544-770160dd92ec"
      },
      "source": [
        "petr"
      ],
      "execution_count": null,
      "outputs": [
        {
          "output_type": "execute_result",
          "data": {
            "text/html": [
              "\n",
              "  <div id=\"df-03c9afb4-e6c6-4fba-91a9-2e0465219de2\">\n",
              "    <div class=\"colab-df-container\">\n",
              "      <div>\n",
              "<style scoped>\n",
              "    .dataframe tbody tr th:only-of-type {\n",
              "        vertical-align: middle;\n",
              "    }\n",
              "\n",
              "    .dataframe tbody tr th {\n",
              "        vertical-align: top;\n",
              "    }\n",
              "\n",
              "    .dataframe thead th {\n",
              "        text-align: right;\n",
              "    }\n",
              "</style>\n",
              "<table border=\"1\" class=\"dataframe\">\n",
              "  <thead>\n",
              "    <tr style=\"text-align: right;\">\n",
              "      <th></th>\n",
              "      <th>Open</th>\n",
              "      <th>High</th>\n",
              "      <th>Low</th>\n",
              "      <th>Close</th>\n",
              "      <th>Adj Close</th>\n",
              "      <th>Volume</th>\n",
              "    </tr>\n",
              "    <tr>\n",
              "      <th>Date</th>\n",
              "      <th></th>\n",
              "      <th></th>\n",
              "      <th></th>\n",
              "      <th></th>\n",
              "      <th></th>\n",
              "      <th></th>\n",
              "    </tr>\n",
              "  </thead>\n",
              "  <tbody>\n",
              "    <tr>\n",
              "      <th>2018-01-02</th>\n",
              "      <td>16.190001</td>\n",
              "      <td>16.549999</td>\n",
              "      <td>16.190001</td>\n",
              "      <td>16.549999</td>\n",
              "      <td>12.479181</td>\n",
              "      <td>33461800</td>\n",
              "    </tr>\n",
              "    <tr>\n",
              "      <th>2018-01-03</th>\n",
              "      <td>16.490000</td>\n",
              "      <td>16.719999</td>\n",
              "      <td>16.370001</td>\n",
              "      <td>16.700001</td>\n",
              "      <td>12.592287</td>\n",
              "      <td>55940900</td>\n",
              "    </tr>\n",
              "    <tr>\n",
              "      <th>2018-01-04</th>\n",
              "      <td>16.780001</td>\n",
              "      <td>16.959999</td>\n",
              "      <td>16.620001</td>\n",
              "      <td>16.730000</td>\n",
              "      <td>12.614905</td>\n",
              "      <td>37064900</td>\n",
              "    </tr>\n",
              "    <tr>\n",
              "      <th>2018-01-05</th>\n",
              "      <td>16.700001</td>\n",
              "      <td>16.860001</td>\n",
              "      <td>16.570000</td>\n",
              "      <td>16.830000</td>\n",
              "      <td>12.690309</td>\n",
              "      <td>26958200</td>\n",
              "    </tr>\n",
              "    <tr>\n",
              "      <th>2018-01-08</th>\n",
              "      <td>16.740000</td>\n",
              "      <td>17.030001</td>\n",
              "      <td>16.709999</td>\n",
              "      <td>17.030001</td>\n",
              "      <td>12.841117</td>\n",
              "      <td>28400000</td>\n",
              "    </tr>\n",
              "    <tr>\n",
              "      <th>...</th>\n",
              "      <td>...</td>\n",
              "      <td>...</td>\n",
              "      <td>...</td>\n",
              "      <td>...</td>\n",
              "      <td>...</td>\n",
              "      <td>...</td>\n",
              "    </tr>\n",
              "    <tr>\n",
              "      <th>2019-12-20</th>\n",
              "      <td>30.600000</td>\n",
              "      <td>30.600000</td>\n",
              "      <td>30.020000</td>\n",
              "      <td>30.260000</td>\n",
              "      <td>24.257549</td>\n",
              "      <td>93064900</td>\n",
              "    </tr>\n",
              "    <tr>\n",
              "      <th>2019-12-23</th>\n",
              "      <td>30.190001</td>\n",
              "      <td>30.500000</td>\n",
              "      <td>30.030001</td>\n",
              "      <td>30.500000</td>\n",
              "      <td>24.449944</td>\n",
              "      <td>21970200</td>\n",
              "    </tr>\n",
              "    <tr>\n",
              "      <th>2019-12-26</th>\n",
              "      <td>30.590000</td>\n",
              "      <td>30.930000</td>\n",
              "      <td>30.500000</td>\n",
              "      <td>30.910000</td>\n",
              "      <td>24.778612</td>\n",
              "      <td>24810500</td>\n",
              "    </tr>\n",
              "    <tr>\n",
              "      <th>2019-12-27</th>\n",
              "      <td>30.690001</td>\n",
              "      <td>30.920000</td>\n",
              "      <td>30.290001</td>\n",
              "      <td>30.520000</td>\n",
              "      <td>24.804575</td>\n",
              "      <td>24995100</td>\n",
              "    </tr>\n",
              "    <tr>\n",
              "      <th>2019-12-30</th>\n",
              "      <td>30.549999</td>\n",
              "      <td>30.709999</td>\n",
              "      <td>30.150000</td>\n",
              "      <td>30.180000</td>\n",
              "      <td>24.528244</td>\n",
              "      <td>22111600</td>\n",
              "    </tr>\n",
              "  </tbody>\n",
              "</table>\n",
              "<p>494 rows × 6 columns</p>\n",
              "</div>\n",
              "      <button class=\"colab-df-convert\" onclick=\"convertToInteractive('df-03c9afb4-e6c6-4fba-91a9-2e0465219de2')\"\n",
              "              title=\"Convert this dataframe to an interactive table.\"\n",
              "              style=\"display:none;\">\n",
              "        \n",
              "  <svg xmlns=\"http://www.w3.org/2000/svg\" height=\"24px\"viewBox=\"0 0 24 24\"\n",
              "       width=\"24px\">\n",
              "    <path d=\"M0 0h24v24H0V0z\" fill=\"none\"/>\n",
              "    <path d=\"M18.56 5.44l.94 2.06.94-2.06 2.06-.94-2.06-.94-.94-2.06-.94 2.06-2.06.94zm-11 1L8.5 8.5l.94-2.06 2.06-.94-2.06-.94L8.5 2.5l-.94 2.06-2.06.94zm10 10l.94 2.06.94-2.06 2.06-.94-2.06-.94-.94-2.06-.94 2.06-2.06.94z\"/><path d=\"M17.41 7.96l-1.37-1.37c-.4-.4-.92-.59-1.43-.59-.52 0-1.04.2-1.43.59L10.3 9.45l-7.72 7.72c-.78.78-.78 2.05 0 2.83L4 21.41c.39.39.9.59 1.41.59.51 0 1.02-.2 1.41-.59l7.78-7.78 2.81-2.81c.8-.78.8-2.07 0-2.86zM5.41 20L4 18.59l7.72-7.72 1.47 1.35L5.41 20z\"/>\n",
              "  </svg>\n",
              "      </button>\n",
              "      \n",
              "  <style>\n",
              "    .colab-df-container {\n",
              "      display:flex;\n",
              "      flex-wrap:wrap;\n",
              "      gap: 12px;\n",
              "    }\n",
              "\n",
              "    .colab-df-convert {\n",
              "      background-color: #E8F0FE;\n",
              "      border: none;\n",
              "      border-radius: 50%;\n",
              "      cursor: pointer;\n",
              "      display: none;\n",
              "      fill: #1967D2;\n",
              "      height: 32px;\n",
              "      padding: 0 0 0 0;\n",
              "      width: 32px;\n",
              "    }\n",
              "\n",
              "    .colab-df-convert:hover {\n",
              "      background-color: #E2EBFA;\n",
              "      box-shadow: 0px 1px 2px rgba(60, 64, 67, 0.3), 0px 1px 3px 1px rgba(60, 64, 67, 0.15);\n",
              "      fill: #174EA6;\n",
              "    }\n",
              "\n",
              "    [theme=dark] .colab-df-convert {\n",
              "      background-color: #3B4455;\n",
              "      fill: #D2E3FC;\n",
              "    }\n",
              "\n",
              "    [theme=dark] .colab-df-convert:hover {\n",
              "      background-color: #434B5C;\n",
              "      box-shadow: 0px 1px 3px 1px rgba(0, 0, 0, 0.15);\n",
              "      filter: drop-shadow(0px 1px 2px rgba(0, 0, 0, 0.3));\n",
              "      fill: #FFFFFF;\n",
              "    }\n",
              "  </style>\n",
              "\n",
              "      <script>\n",
              "        const buttonEl =\n",
              "          document.querySelector('#df-03c9afb4-e6c6-4fba-91a9-2e0465219de2 button.colab-df-convert');\n",
              "        buttonEl.style.display =\n",
              "          google.colab.kernel.accessAllowed ? 'block' : 'none';\n",
              "\n",
              "        async function convertToInteractive(key) {\n",
              "          const element = document.querySelector('#df-03c9afb4-e6c6-4fba-91a9-2e0465219de2');\n",
              "          const dataTable =\n",
              "            await google.colab.kernel.invokeFunction('convertToInteractive',\n",
              "                                                     [key], {});\n",
              "          if (!dataTable) return;\n",
              "\n",
              "          const docLinkHtml = 'Like what you see? Visit the ' +\n",
              "            '<a target=\"_blank\" href=https://colab.research.google.com/notebooks/data_table.ipynb>data table notebook</a>'\n",
              "            + ' to learn more about interactive tables.';\n",
              "          element.innerHTML = '';\n",
              "          dataTable['output_type'] = 'display_data';\n",
              "          await google.colab.output.renderOutput(dataTable, element);\n",
              "          const docLink = document.createElement('div');\n",
              "          docLink.innerHTML = docLinkHtml;\n",
              "          element.appendChild(docLink);\n",
              "        }\n",
              "      </script>\n",
              "    </div>\n",
              "  </div>\n",
              "  "
            ],
            "text/plain": [
              "                 Open       High        Low      Close  Adj Close    Volume\n",
              "Date                                                                       \n",
              "2018-01-02  16.190001  16.549999  16.190001  16.549999  12.479181  33461800\n",
              "2018-01-03  16.490000  16.719999  16.370001  16.700001  12.592287  55940900\n",
              "2018-01-04  16.780001  16.959999  16.620001  16.730000  12.614905  37064900\n",
              "2018-01-05  16.700001  16.860001  16.570000  16.830000  12.690309  26958200\n",
              "2018-01-08  16.740000  17.030001  16.709999  17.030001  12.841117  28400000\n",
              "...               ...        ...        ...        ...        ...       ...\n",
              "2019-12-20  30.600000  30.600000  30.020000  30.260000  24.257549  93064900\n",
              "2019-12-23  30.190001  30.500000  30.030001  30.500000  24.449944  21970200\n",
              "2019-12-26  30.590000  30.930000  30.500000  30.910000  24.778612  24810500\n",
              "2019-12-27  30.690001  30.920000  30.290001  30.520000  24.804575  24995100\n",
              "2019-12-30  30.549999  30.709999  30.150000  30.180000  24.528244  22111600\n",
              "\n",
              "[494 rows x 6 columns]"
            ]
          },
          "metadata": {},
          "execution_count": 56
        }
      ]
    },
    {
      "cell_type": "markdown",
      "metadata": {
        "id": "r6iGpcZ4WOER"
      },
      "source": [
        "## Criando um For para normalização dos Retornos da Carteira"
      ]
    },
    {
      "cell_type": "code",
      "metadata": {
        "id": "hUxm_KVjWKxH"
      },
      "source": [
        "for papeis in (petr, vale, itub, wege):\n",
        "  papeis['Retorno Normalizado'] = papeis['Adj Close'] / papeis['Adj Close'].iloc[0]  #Normalizando os Retornos"
      ],
      "execution_count": null,
      "outputs": []
    },
    {
      "cell_type": "markdown",
      "metadata": {
        "id": "UizpUUonXJjB"
      },
      "source": [
        "## Alocando R$$ de acordo com o peso das carteira Capital Inicial de R$10.000,00\n",
        "## 25% petr, 25% vale, 25% itub, 25% wege"
      ]
    },
    {
      "cell_type": "markdown",
      "metadata": {
        "id": "BlSjRmp_ZOXh"
      },
      "source": [
        "### Alocando o peso de cada papel"
      ]
    },
    {
      "cell_type": "code",
      "metadata": {
        "id": "FO8RMeMkX6k_"
      },
      "source": [
        "for papeis, peso in zip((petr, vale, itub, wege), [.25, .25, .25, .25]):\n",
        "  papeis['Alocacao'] = papeis['Retorno Normalizado'] * peso"
      ],
      "execution_count": null,
      "outputs": []
    },
    {
      "cell_type": "code",
      "metadata": {
        "colab": {
          "base_uri": "https://localhost:8080/",
          "height": 455
        },
        "id": "uOjVtMpXYayo",
        "outputId": "219436c8-2842-4c17-967f-fe235da6a88d"
      },
      "source": [
        "petr"
      ],
      "execution_count": null,
      "outputs": [
        {
          "output_type": "execute_result",
          "data": {
            "text/html": [
              "\n",
              "  <div id=\"df-24efc26b-a382-4881-8c56-2f32c3439a3b\">\n",
              "    <div class=\"colab-df-container\">\n",
              "      <div>\n",
              "<style scoped>\n",
              "    .dataframe tbody tr th:only-of-type {\n",
              "        vertical-align: middle;\n",
              "    }\n",
              "\n",
              "    .dataframe tbody tr th {\n",
              "        vertical-align: top;\n",
              "    }\n",
              "\n",
              "    .dataframe thead th {\n",
              "        text-align: right;\n",
              "    }\n",
              "</style>\n",
              "<table border=\"1\" class=\"dataframe\">\n",
              "  <thead>\n",
              "    <tr style=\"text-align: right;\">\n",
              "      <th></th>\n",
              "      <th>Open</th>\n",
              "      <th>High</th>\n",
              "      <th>Low</th>\n",
              "      <th>Close</th>\n",
              "      <th>Adj Close</th>\n",
              "      <th>Volume</th>\n",
              "      <th>Retorno Normalizado</th>\n",
              "      <th>Alocacao</th>\n",
              "    </tr>\n",
              "    <tr>\n",
              "      <th>Date</th>\n",
              "      <th></th>\n",
              "      <th></th>\n",
              "      <th></th>\n",
              "      <th></th>\n",
              "      <th></th>\n",
              "      <th></th>\n",
              "      <th></th>\n",
              "      <th></th>\n",
              "    </tr>\n",
              "  </thead>\n",
              "  <tbody>\n",
              "    <tr>\n",
              "      <th>2018-01-02</th>\n",
              "      <td>16.190001</td>\n",
              "      <td>16.549999</td>\n",
              "      <td>16.190001</td>\n",
              "      <td>16.549999</td>\n",
              "      <td>12.479181</td>\n",
              "      <td>33461800</td>\n",
              "      <td>1.000000</td>\n",
              "      <td>0.250000</td>\n",
              "    </tr>\n",
              "    <tr>\n",
              "      <th>2018-01-03</th>\n",
              "      <td>16.490000</td>\n",
              "      <td>16.719999</td>\n",
              "      <td>16.370001</td>\n",
              "      <td>16.700001</td>\n",
              "      <td>12.592287</td>\n",
              "      <td>55940900</td>\n",
              "      <td>1.009064</td>\n",
              "      <td>0.252266</td>\n",
              "    </tr>\n",
              "    <tr>\n",
              "      <th>2018-01-04</th>\n",
              "      <td>16.780001</td>\n",
              "      <td>16.959999</td>\n",
              "      <td>16.620001</td>\n",
              "      <td>16.730000</td>\n",
              "      <td>12.614905</td>\n",
              "      <td>37064900</td>\n",
              "      <td>1.010876</td>\n",
              "      <td>0.252719</td>\n",
              "    </tr>\n",
              "    <tr>\n",
              "      <th>2018-01-05</th>\n",
              "      <td>16.700001</td>\n",
              "      <td>16.860001</td>\n",
              "      <td>16.570000</td>\n",
              "      <td>16.830000</td>\n",
              "      <td>12.690309</td>\n",
              "      <td>26958200</td>\n",
              "      <td>1.016918</td>\n",
              "      <td>0.254230</td>\n",
              "    </tr>\n",
              "    <tr>\n",
              "      <th>2018-01-08</th>\n",
              "      <td>16.740000</td>\n",
              "      <td>17.030001</td>\n",
              "      <td>16.709999</td>\n",
              "      <td>17.030001</td>\n",
              "      <td>12.841117</td>\n",
              "      <td>28400000</td>\n",
              "      <td>1.029003</td>\n",
              "      <td>0.257251</td>\n",
              "    </tr>\n",
              "    <tr>\n",
              "      <th>...</th>\n",
              "      <td>...</td>\n",
              "      <td>...</td>\n",
              "      <td>...</td>\n",
              "      <td>...</td>\n",
              "      <td>...</td>\n",
              "      <td>...</td>\n",
              "      <td>...</td>\n",
              "      <td>...</td>\n",
              "    </tr>\n",
              "    <tr>\n",
              "      <th>2019-12-20</th>\n",
              "      <td>30.600000</td>\n",
              "      <td>30.600000</td>\n",
              "      <td>30.020000</td>\n",
              "      <td>30.260000</td>\n",
              "      <td>24.257549</td>\n",
              "      <td>93064900</td>\n",
              "      <td>1.943841</td>\n",
              "      <td>0.485960</td>\n",
              "    </tr>\n",
              "    <tr>\n",
              "      <th>2019-12-23</th>\n",
              "      <td>30.190001</td>\n",
              "      <td>30.500000</td>\n",
              "      <td>30.030001</td>\n",
              "      <td>30.500000</td>\n",
              "      <td>24.449944</td>\n",
              "      <td>21970200</td>\n",
              "      <td>1.959259</td>\n",
              "      <td>0.489815</td>\n",
              "    </tr>\n",
              "    <tr>\n",
              "      <th>2019-12-26</th>\n",
              "      <td>30.590000</td>\n",
              "      <td>30.930000</td>\n",
              "      <td>30.500000</td>\n",
              "      <td>30.910000</td>\n",
              "      <td>24.778612</td>\n",
              "      <td>24810500</td>\n",
              "      <td>1.985596</td>\n",
              "      <td>0.496399</td>\n",
              "    </tr>\n",
              "    <tr>\n",
              "      <th>2019-12-27</th>\n",
              "      <td>30.690001</td>\n",
              "      <td>30.920000</td>\n",
              "      <td>30.290001</td>\n",
              "      <td>30.520000</td>\n",
              "      <td>24.804575</td>\n",
              "      <td>24995100</td>\n",
              "      <td>1.987676</td>\n",
              "      <td>0.496919</td>\n",
              "    </tr>\n",
              "    <tr>\n",
              "      <th>2019-12-30</th>\n",
              "      <td>30.549999</td>\n",
              "      <td>30.709999</td>\n",
              "      <td>30.150000</td>\n",
              "      <td>30.180000</td>\n",
              "      <td>24.528244</td>\n",
              "      <td>22111600</td>\n",
              "      <td>1.965533</td>\n",
              "      <td>0.491383</td>\n",
              "    </tr>\n",
              "  </tbody>\n",
              "</table>\n",
              "<p>494 rows × 8 columns</p>\n",
              "</div>\n",
              "      <button class=\"colab-df-convert\" onclick=\"convertToInteractive('df-24efc26b-a382-4881-8c56-2f32c3439a3b')\"\n",
              "              title=\"Convert this dataframe to an interactive table.\"\n",
              "              style=\"display:none;\">\n",
              "        \n",
              "  <svg xmlns=\"http://www.w3.org/2000/svg\" height=\"24px\"viewBox=\"0 0 24 24\"\n",
              "       width=\"24px\">\n",
              "    <path d=\"M0 0h24v24H0V0z\" fill=\"none\"/>\n",
              "    <path d=\"M18.56 5.44l.94 2.06.94-2.06 2.06-.94-2.06-.94-.94-2.06-.94 2.06-2.06.94zm-11 1L8.5 8.5l.94-2.06 2.06-.94-2.06-.94L8.5 2.5l-.94 2.06-2.06.94zm10 10l.94 2.06.94-2.06 2.06-.94-2.06-.94-.94-2.06-.94 2.06-2.06.94z\"/><path d=\"M17.41 7.96l-1.37-1.37c-.4-.4-.92-.59-1.43-.59-.52 0-1.04.2-1.43.59L10.3 9.45l-7.72 7.72c-.78.78-.78 2.05 0 2.83L4 21.41c.39.39.9.59 1.41.59.51 0 1.02-.2 1.41-.59l7.78-7.78 2.81-2.81c.8-.78.8-2.07 0-2.86zM5.41 20L4 18.59l7.72-7.72 1.47 1.35L5.41 20z\"/>\n",
              "  </svg>\n",
              "      </button>\n",
              "      \n",
              "  <style>\n",
              "    .colab-df-container {\n",
              "      display:flex;\n",
              "      flex-wrap:wrap;\n",
              "      gap: 12px;\n",
              "    }\n",
              "\n",
              "    .colab-df-convert {\n",
              "      background-color: #E8F0FE;\n",
              "      border: none;\n",
              "      border-radius: 50%;\n",
              "      cursor: pointer;\n",
              "      display: none;\n",
              "      fill: #1967D2;\n",
              "      height: 32px;\n",
              "      padding: 0 0 0 0;\n",
              "      width: 32px;\n",
              "    }\n",
              "\n",
              "    .colab-df-convert:hover {\n",
              "      background-color: #E2EBFA;\n",
              "      box-shadow: 0px 1px 2px rgba(60, 64, 67, 0.3), 0px 1px 3px 1px rgba(60, 64, 67, 0.15);\n",
              "      fill: #174EA6;\n",
              "    }\n",
              "\n",
              "    [theme=dark] .colab-df-convert {\n",
              "      background-color: #3B4455;\n",
              "      fill: #D2E3FC;\n",
              "    }\n",
              "\n",
              "    [theme=dark] .colab-df-convert:hover {\n",
              "      background-color: #434B5C;\n",
              "      box-shadow: 0px 1px 3px 1px rgba(0, 0, 0, 0.15);\n",
              "      filter: drop-shadow(0px 1px 2px rgba(0, 0, 0, 0.3));\n",
              "      fill: #FFFFFF;\n",
              "    }\n",
              "  </style>\n",
              "\n",
              "      <script>\n",
              "        const buttonEl =\n",
              "          document.querySelector('#df-24efc26b-a382-4881-8c56-2f32c3439a3b button.colab-df-convert');\n",
              "        buttonEl.style.display =\n",
              "          google.colab.kernel.accessAllowed ? 'block' : 'none';\n",
              "\n",
              "        async function convertToInteractive(key) {\n",
              "          const element = document.querySelector('#df-24efc26b-a382-4881-8c56-2f32c3439a3b');\n",
              "          const dataTable =\n",
              "            await google.colab.kernel.invokeFunction('convertToInteractive',\n",
              "                                                     [key], {});\n",
              "          if (!dataTable) return;\n",
              "\n",
              "          const docLinkHtml = 'Like what you see? Visit the ' +\n",
              "            '<a target=\"_blank\" href=https://colab.research.google.com/notebooks/data_table.ipynb>data table notebook</a>'\n",
              "            + ' to learn more about interactive tables.';\n",
              "          element.innerHTML = '';\n",
              "          dataTable['output_type'] = 'display_data';\n",
              "          await google.colab.output.renderOutput(dataTable, element);\n",
              "          const docLink = document.createElement('div');\n",
              "          docLink.innerHTML = docLinkHtml;\n",
              "          element.appendChild(docLink);\n",
              "        }\n",
              "      </script>\n",
              "    </div>\n",
              "  </div>\n",
              "  "
            ],
            "text/plain": [
              "                 Open       High  ...  Retorno Normalizado  Alocacao\n",
              "Date                              ...                               \n",
              "2018-01-02  16.190001  16.549999  ...             1.000000  0.250000\n",
              "2018-01-03  16.490000  16.719999  ...             1.009064  0.252266\n",
              "2018-01-04  16.780001  16.959999  ...             1.010876  0.252719\n",
              "2018-01-05  16.700001  16.860001  ...             1.016918  0.254230\n",
              "2018-01-08  16.740000  17.030001  ...             1.029003  0.257251\n",
              "...               ...        ...  ...                  ...       ...\n",
              "2019-12-20  30.600000  30.600000  ...             1.943841  0.485960\n",
              "2019-12-23  30.190001  30.500000  ...             1.959259  0.489815\n",
              "2019-12-26  30.590000  30.930000  ...             1.985596  0.496399\n",
              "2019-12-27  30.690001  30.920000  ...             1.987676  0.496919\n",
              "2019-12-30  30.549999  30.709999  ...             1.965533  0.491383\n",
              "\n",
              "[494 rows x 8 columns]"
            ]
          },
          "metadata": {},
          "execution_count": 59
        }
      ]
    },
    {
      "cell_type": "markdown",
      "metadata": {
        "id": "h34CQaVVZYXb"
      },
      "source": [
        "### Calculando o Valor de acordo com seu peso de cada papel na carteira"
      ]
    },
    {
      "cell_type": "code",
      "metadata": {
        "id": "gGDWDI5OYcS_"
      },
      "source": [
        "# Valor de Patrimonio por papel\n",
        "for papeis in (petr, vale, itub, wege):\n",
        "  papeis ['Valor Posicao'] = papeis ['Alocacao'] * 1000"
      ],
      "execution_count": null,
      "outputs": []
    },
    {
      "cell_type": "markdown",
      "metadata": {
        "id": "ucjus104a97_"
      },
      "source": [
        "### Calculando o Retorno em R$$ da carteira de acordo com cada peso"
      ]
    },
    {
      "cell_type": "code",
      "metadata": {
        "id": "888ksNwlZ2JM"
      },
      "source": [
        "# Cada busca feita em um papel é igual a uma aba do excel\n",
        "# Para apurarmos o retorno da carteira de acordo com o seu peso que será o valor aplicado. Temos que unir tudo isso\n",
        "# em uma aba só e para isso vamos usar o Concat\n",
        "valor_posicoes = [petr['Valor Posicao'], vale['Valor Posicao'], itub['Valor Posicao'], wege['Valor Posicao']]\n",
        "valor_carteira = pd.concat(valor_posicoes, axis=1)\n",
        "# axis pega somente alinha, sem ele vai pegar a coluna inteira"
      ],
      "execution_count": null,
      "outputs": []
    },
    {
      "cell_type": "code",
      "metadata": {
        "colab": {
          "base_uri": "https://localhost:8080/",
          "height": 455
        },
        "id": "BgLH8-uMa9VW",
        "outputId": "fca9b2e7-6ef2-414b-99a0-9868a6959525"
      },
      "source": [
        "valor_carteira"
      ],
      "execution_count": null,
      "outputs": [
        {
          "output_type": "execute_result",
          "data": {
            "text/html": [
              "\n",
              "  <div id=\"df-8a956d32-677a-47d4-b76f-0f4d6fbb7195\">\n",
              "    <div class=\"colab-df-container\">\n",
              "      <div>\n",
              "<style scoped>\n",
              "    .dataframe tbody tr th:only-of-type {\n",
              "        vertical-align: middle;\n",
              "    }\n",
              "\n",
              "    .dataframe tbody tr th {\n",
              "        vertical-align: top;\n",
              "    }\n",
              "\n",
              "    .dataframe thead th {\n",
              "        text-align: right;\n",
              "    }\n",
              "</style>\n",
              "<table border=\"1\" class=\"dataframe\">\n",
              "  <thead>\n",
              "    <tr style=\"text-align: right;\">\n",
              "      <th></th>\n",
              "      <th>Valor Posicao</th>\n",
              "      <th>Valor Posicao</th>\n",
              "      <th>Valor Posicao</th>\n",
              "      <th>Valor Posicao</th>\n",
              "    </tr>\n",
              "    <tr>\n",
              "      <th>Date</th>\n",
              "      <th></th>\n",
              "      <th></th>\n",
              "      <th></th>\n",
              "      <th></th>\n",
              "    </tr>\n",
              "  </thead>\n",
              "  <tbody>\n",
              "    <tr>\n",
              "      <th>2018-01-02</th>\n",
              "      <td>250.000000</td>\n",
              "      <td>250.000000</td>\n",
              "      <td>250.000000</td>\n",
              "      <td>250.000000</td>\n",
              "    </tr>\n",
              "    <tr>\n",
              "      <th>2018-01-03</th>\n",
              "      <td>252.265889</td>\n",
              "      <td>248.501889</td>\n",
              "      <td>251.709210</td>\n",
              "      <td>246.203035</td>\n",
              "    </tr>\n",
              "    <tr>\n",
              "      <th>2018-01-04</th>\n",
              "      <td>252.719010</td>\n",
              "      <td>249.520598</td>\n",
              "      <td>256.950825</td>\n",
              "      <td>243.804887</td>\n",
              "    </tr>\n",
              "    <tr>\n",
              "      <th>2018-01-05</th>\n",
              "      <td>254.229590</td>\n",
              "      <td>253.415630</td>\n",
              "      <td>257.691415</td>\n",
              "      <td>244.804165</td>\n",
              "    </tr>\n",
              "    <tr>\n",
              "      <th>2018-01-08</th>\n",
              "      <td>257.250788</td>\n",
              "      <td>259.048408</td>\n",
              "      <td>256.836897</td>\n",
              "      <td>246.802565</td>\n",
              "    </tr>\n",
              "    <tr>\n",
              "      <th>...</th>\n",
              "      <td>...</td>\n",
              "      <td>...</td>\n",
              "      <td>...</td>\n",
              "      <td>...</td>\n",
              "    </tr>\n",
              "    <tr>\n",
              "      <th>2019-12-20</th>\n",
              "      <td>485.960351</td>\n",
              "      <td>341.620370</td>\n",
              "      <td>348.139895</td>\n",
              "      <td>454.573313</td>\n",
              "    </tr>\n",
              "    <tr>\n",
              "      <th>2019-12-23</th>\n",
              "      <td>489.814656</td>\n",
              "      <td>340.310995</td>\n",
              "      <td>351.382838</td>\n",
              "      <td>453.743993</td>\n",
              "    </tr>\n",
              "    <tr>\n",
              "      <th>2019-12-26</th>\n",
              "      <td>496.398994</td>\n",
              "      <td>341.620370</td>\n",
              "      <td>356.724145</td>\n",
              "      <td>467.978069</td>\n",
              "    </tr>\n",
              "    <tr>\n",
              "      <th>2019-12-27</th>\n",
              "      <td>496.919117</td>\n",
              "      <td>343.056378</td>\n",
              "      <td>355.770438</td>\n",
              "      <td>474.557992</td>\n",
              "    </tr>\n",
              "    <tr>\n",
              "      <th>2019-12-30</th>\n",
              "      <td>491.383278</td>\n",
              "      <td>341.136255</td>\n",
              "      <td>353.862677</td>\n",
              "      <td>465.426545</td>\n",
              "    </tr>\n",
              "  </tbody>\n",
              "</table>\n",
              "<p>494 rows × 4 columns</p>\n",
              "</div>\n",
              "      <button class=\"colab-df-convert\" onclick=\"convertToInteractive('df-8a956d32-677a-47d4-b76f-0f4d6fbb7195')\"\n",
              "              title=\"Convert this dataframe to an interactive table.\"\n",
              "              style=\"display:none;\">\n",
              "        \n",
              "  <svg xmlns=\"http://www.w3.org/2000/svg\" height=\"24px\"viewBox=\"0 0 24 24\"\n",
              "       width=\"24px\">\n",
              "    <path d=\"M0 0h24v24H0V0z\" fill=\"none\"/>\n",
              "    <path d=\"M18.56 5.44l.94 2.06.94-2.06 2.06-.94-2.06-.94-.94-2.06-.94 2.06-2.06.94zm-11 1L8.5 8.5l.94-2.06 2.06-.94-2.06-.94L8.5 2.5l-.94 2.06-2.06.94zm10 10l.94 2.06.94-2.06 2.06-.94-2.06-.94-.94-2.06-.94 2.06-2.06.94z\"/><path d=\"M17.41 7.96l-1.37-1.37c-.4-.4-.92-.59-1.43-.59-.52 0-1.04.2-1.43.59L10.3 9.45l-7.72 7.72c-.78.78-.78 2.05 0 2.83L4 21.41c.39.39.9.59 1.41.59.51 0 1.02-.2 1.41-.59l7.78-7.78 2.81-2.81c.8-.78.8-2.07 0-2.86zM5.41 20L4 18.59l7.72-7.72 1.47 1.35L5.41 20z\"/>\n",
              "  </svg>\n",
              "      </button>\n",
              "      \n",
              "  <style>\n",
              "    .colab-df-container {\n",
              "      display:flex;\n",
              "      flex-wrap:wrap;\n",
              "      gap: 12px;\n",
              "    }\n",
              "\n",
              "    .colab-df-convert {\n",
              "      background-color: #E8F0FE;\n",
              "      border: none;\n",
              "      border-radius: 50%;\n",
              "      cursor: pointer;\n",
              "      display: none;\n",
              "      fill: #1967D2;\n",
              "      height: 32px;\n",
              "      padding: 0 0 0 0;\n",
              "      width: 32px;\n",
              "    }\n",
              "\n",
              "    .colab-df-convert:hover {\n",
              "      background-color: #E2EBFA;\n",
              "      box-shadow: 0px 1px 2px rgba(60, 64, 67, 0.3), 0px 1px 3px 1px rgba(60, 64, 67, 0.15);\n",
              "      fill: #174EA6;\n",
              "    }\n",
              "\n",
              "    [theme=dark] .colab-df-convert {\n",
              "      background-color: #3B4455;\n",
              "      fill: #D2E3FC;\n",
              "    }\n",
              "\n",
              "    [theme=dark] .colab-df-convert:hover {\n",
              "      background-color: #434B5C;\n",
              "      box-shadow: 0px 1px 3px 1px rgba(0, 0, 0, 0.15);\n",
              "      filter: drop-shadow(0px 1px 2px rgba(0, 0, 0, 0.3));\n",
              "      fill: #FFFFFF;\n",
              "    }\n",
              "  </style>\n",
              "\n",
              "      <script>\n",
              "        const buttonEl =\n",
              "          document.querySelector('#df-8a956d32-677a-47d4-b76f-0f4d6fbb7195 button.colab-df-convert');\n",
              "        buttonEl.style.display =\n",
              "          google.colab.kernel.accessAllowed ? 'block' : 'none';\n",
              "\n",
              "        async function convertToInteractive(key) {\n",
              "          const element = document.querySelector('#df-8a956d32-677a-47d4-b76f-0f4d6fbb7195');\n",
              "          const dataTable =\n",
              "            await google.colab.kernel.invokeFunction('convertToInteractive',\n",
              "                                                     [key], {});\n",
              "          if (!dataTable) return;\n",
              "\n",
              "          const docLinkHtml = 'Like what you see? Visit the ' +\n",
              "            '<a target=\"_blank\" href=https://colab.research.google.com/notebooks/data_table.ipynb>data table notebook</a>'\n",
              "            + ' to learn more about interactive tables.';\n",
              "          element.innerHTML = '';\n",
              "          dataTable['output_type'] = 'display_data';\n",
              "          await google.colab.output.renderOutput(dataTable, element);\n",
              "          const docLink = document.createElement('div');\n",
              "          docLink.innerHTML = docLinkHtml;\n",
              "          element.appendChild(docLink);\n",
              "        }\n",
              "      </script>\n",
              "    </div>\n",
              "  </div>\n",
              "  "
            ],
            "text/plain": [
              "            Valor Posicao  Valor Posicao  Valor Posicao  Valor Posicao\n",
              "Date                                                                  \n",
              "2018-01-02     250.000000     250.000000     250.000000     250.000000\n",
              "2018-01-03     252.265889     248.501889     251.709210     246.203035\n",
              "2018-01-04     252.719010     249.520598     256.950825     243.804887\n",
              "2018-01-05     254.229590     253.415630     257.691415     244.804165\n",
              "2018-01-08     257.250788     259.048408     256.836897     246.802565\n",
              "...                   ...            ...            ...            ...\n",
              "2019-12-20     485.960351     341.620370     348.139895     454.573313\n",
              "2019-12-23     489.814656     340.310995     351.382838     453.743993\n",
              "2019-12-26     496.398994     341.620370     356.724145     467.978069\n",
              "2019-12-27     496.919117     343.056378     355.770438     474.557992\n",
              "2019-12-30     491.383278     341.136255     353.862677     465.426545\n",
              "\n",
              "[494 rows x 4 columns]"
            ]
          },
          "metadata": {},
          "execution_count": 62
        }
      ]
    },
    {
      "cell_type": "markdown",
      "metadata": {
        "id": "7x936N7yb2AC"
      },
      "source": [
        "### Renomeando os Titulos dos Ativos ou Colunas"
      ]
    },
    {
      "cell_type": "code",
      "metadata": {
        "id": "t41MlDzwbgK7"
      },
      "source": [
        "valor_carteira.columns = ['Petro', 'Vale', 'Itub', 'Wege']"
      ],
      "execution_count": null,
      "outputs": []
    },
    {
      "cell_type": "code",
      "metadata": {
        "colab": {
          "base_uri": "https://localhost:8080/",
          "height": 455
        },
        "id": "C-JuDg9Obt7F",
        "outputId": "a28b53f9-e8ff-4e06-c347-79de6fa45bf4"
      },
      "source": [
        "valor_carteira"
      ],
      "execution_count": null,
      "outputs": [
        {
          "output_type": "execute_result",
          "data": {
            "text/html": [
              "\n",
              "  <div id=\"df-1affa253-8db0-4040-9e32-b43f949a5d74\">\n",
              "    <div class=\"colab-df-container\">\n",
              "      <div>\n",
              "<style scoped>\n",
              "    .dataframe tbody tr th:only-of-type {\n",
              "        vertical-align: middle;\n",
              "    }\n",
              "\n",
              "    .dataframe tbody tr th {\n",
              "        vertical-align: top;\n",
              "    }\n",
              "\n",
              "    .dataframe thead th {\n",
              "        text-align: right;\n",
              "    }\n",
              "</style>\n",
              "<table border=\"1\" class=\"dataframe\">\n",
              "  <thead>\n",
              "    <tr style=\"text-align: right;\">\n",
              "      <th></th>\n",
              "      <th>Petro</th>\n",
              "      <th>Vale</th>\n",
              "      <th>Itub</th>\n",
              "      <th>Wege</th>\n",
              "    </tr>\n",
              "    <tr>\n",
              "      <th>Date</th>\n",
              "      <th></th>\n",
              "      <th></th>\n",
              "      <th></th>\n",
              "      <th></th>\n",
              "    </tr>\n",
              "  </thead>\n",
              "  <tbody>\n",
              "    <tr>\n",
              "      <th>2018-01-02</th>\n",
              "      <td>250.000000</td>\n",
              "      <td>250.000000</td>\n",
              "      <td>250.000000</td>\n",
              "      <td>250.000000</td>\n",
              "    </tr>\n",
              "    <tr>\n",
              "      <th>2018-01-03</th>\n",
              "      <td>252.265889</td>\n",
              "      <td>248.501889</td>\n",
              "      <td>251.709210</td>\n",
              "      <td>246.203035</td>\n",
              "    </tr>\n",
              "    <tr>\n",
              "      <th>2018-01-04</th>\n",
              "      <td>252.719010</td>\n",
              "      <td>249.520598</td>\n",
              "      <td>256.950825</td>\n",
              "      <td>243.804887</td>\n",
              "    </tr>\n",
              "    <tr>\n",
              "      <th>2018-01-05</th>\n",
              "      <td>254.229590</td>\n",
              "      <td>253.415630</td>\n",
              "      <td>257.691415</td>\n",
              "      <td>244.804165</td>\n",
              "    </tr>\n",
              "    <tr>\n",
              "      <th>2018-01-08</th>\n",
              "      <td>257.250788</td>\n",
              "      <td>259.048408</td>\n",
              "      <td>256.836897</td>\n",
              "      <td>246.802565</td>\n",
              "    </tr>\n",
              "    <tr>\n",
              "      <th>...</th>\n",
              "      <td>...</td>\n",
              "      <td>...</td>\n",
              "      <td>...</td>\n",
              "      <td>...</td>\n",
              "    </tr>\n",
              "    <tr>\n",
              "      <th>2019-12-20</th>\n",
              "      <td>485.960351</td>\n",
              "      <td>341.620370</td>\n",
              "      <td>348.139895</td>\n",
              "      <td>454.573313</td>\n",
              "    </tr>\n",
              "    <tr>\n",
              "      <th>2019-12-23</th>\n",
              "      <td>489.814656</td>\n",
              "      <td>340.310995</td>\n",
              "      <td>351.382838</td>\n",
              "      <td>453.743993</td>\n",
              "    </tr>\n",
              "    <tr>\n",
              "      <th>2019-12-26</th>\n",
              "      <td>496.398994</td>\n",
              "      <td>341.620370</td>\n",
              "      <td>356.724145</td>\n",
              "      <td>467.978069</td>\n",
              "    </tr>\n",
              "    <tr>\n",
              "      <th>2019-12-27</th>\n",
              "      <td>496.919117</td>\n",
              "      <td>343.056378</td>\n",
              "      <td>355.770438</td>\n",
              "      <td>474.557992</td>\n",
              "    </tr>\n",
              "    <tr>\n",
              "      <th>2019-12-30</th>\n",
              "      <td>491.383278</td>\n",
              "      <td>341.136255</td>\n",
              "      <td>353.862677</td>\n",
              "      <td>465.426545</td>\n",
              "    </tr>\n",
              "  </tbody>\n",
              "</table>\n",
              "<p>494 rows × 4 columns</p>\n",
              "</div>\n",
              "      <button class=\"colab-df-convert\" onclick=\"convertToInteractive('df-1affa253-8db0-4040-9e32-b43f949a5d74')\"\n",
              "              title=\"Convert this dataframe to an interactive table.\"\n",
              "              style=\"display:none;\">\n",
              "        \n",
              "  <svg xmlns=\"http://www.w3.org/2000/svg\" height=\"24px\"viewBox=\"0 0 24 24\"\n",
              "       width=\"24px\">\n",
              "    <path d=\"M0 0h24v24H0V0z\" fill=\"none\"/>\n",
              "    <path d=\"M18.56 5.44l.94 2.06.94-2.06 2.06-.94-2.06-.94-.94-2.06-.94 2.06-2.06.94zm-11 1L8.5 8.5l.94-2.06 2.06-.94-2.06-.94L8.5 2.5l-.94 2.06-2.06.94zm10 10l.94 2.06.94-2.06 2.06-.94-2.06-.94-.94-2.06-.94 2.06-2.06.94z\"/><path d=\"M17.41 7.96l-1.37-1.37c-.4-.4-.92-.59-1.43-.59-.52 0-1.04.2-1.43.59L10.3 9.45l-7.72 7.72c-.78.78-.78 2.05 0 2.83L4 21.41c.39.39.9.59 1.41.59.51 0 1.02-.2 1.41-.59l7.78-7.78 2.81-2.81c.8-.78.8-2.07 0-2.86zM5.41 20L4 18.59l7.72-7.72 1.47 1.35L5.41 20z\"/>\n",
              "  </svg>\n",
              "      </button>\n",
              "      \n",
              "  <style>\n",
              "    .colab-df-container {\n",
              "      display:flex;\n",
              "      flex-wrap:wrap;\n",
              "      gap: 12px;\n",
              "    }\n",
              "\n",
              "    .colab-df-convert {\n",
              "      background-color: #E8F0FE;\n",
              "      border: none;\n",
              "      border-radius: 50%;\n",
              "      cursor: pointer;\n",
              "      display: none;\n",
              "      fill: #1967D2;\n",
              "      height: 32px;\n",
              "      padding: 0 0 0 0;\n",
              "      width: 32px;\n",
              "    }\n",
              "\n",
              "    .colab-df-convert:hover {\n",
              "      background-color: #E2EBFA;\n",
              "      box-shadow: 0px 1px 2px rgba(60, 64, 67, 0.3), 0px 1px 3px 1px rgba(60, 64, 67, 0.15);\n",
              "      fill: #174EA6;\n",
              "    }\n",
              "\n",
              "    [theme=dark] .colab-df-convert {\n",
              "      background-color: #3B4455;\n",
              "      fill: #D2E3FC;\n",
              "    }\n",
              "\n",
              "    [theme=dark] .colab-df-convert:hover {\n",
              "      background-color: #434B5C;\n",
              "      box-shadow: 0px 1px 3px 1px rgba(0, 0, 0, 0.15);\n",
              "      filter: drop-shadow(0px 1px 2px rgba(0, 0, 0, 0.3));\n",
              "      fill: #FFFFFF;\n",
              "    }\n",
              "  </style>\n",
              "\n",
              "      <script>\n",
              "        const buttonEl =\n",
              "          document.querySelector('#df-1affa253-8db0-4040-9e32-b43f949a5d74 button.colab-df-convert');\n",
              "        buttonEl.style.display =\n",
              "          google.colab.kernel.accessAllowed ? 'block' : 'none';\n",
              "\n",
              "        async function convertToInteractive(key) {\n",
              "          const element = document.querySelector('#df-1affa253-8db0-4040-9e32-b43f949a5d74');\n",
              "          const dataTable =\n",
              "            await google.colab.kernel.invokeFunction('convertToInteractive',\n",
              "                                                     [key], {});\n",
              "          if (!dataTable) return;\n",
              "\n",
              "          const docLinkHtml = 'Like what you see? Visit the ' +\n",
              "            '<a target=\"_blank\" href=https://colab.research.google.com/notebooks/data_table.ipynb>data table notebook</a>'\n",
              "            + ' to learn more about interactive tables.';\n",
              "          element.innerHTML = '';\n",
              "          dataTable['output_type'] = 'display_data';\n",
              "          await google.colab.output.renderOutput(dataTable, element);\n",
              "          const docLink = document.createElement('div');\n",
              "          docLink.innerHTML = docLinkHtml;\n",
              "          element.appendChild(docLink);\n",
              "        }\n",
              "      </script>\n",
              "    </div>\n",
              "  </div>\n",
              "  "
            ],
            "text/plain": [
              "                 Petro        Vale        Itub        Wege\n",
              "Date                                                      \n",
              "2018-01-02  250.000000  250.000000  250.000000  250.000000\n",
              "2018-01-03  252.265889  248.501889  251.709210  246.203035\n",
              "2018-01-04  252.719010  249.520598  256.950825  243.804887\n",
              "2018-01-05  254.229590  253.415630  257.691415  244.804165\n",
              "2018-01-08  257.250788  259.048408  256.836897  246.802565\n",
              "...                ...         ...         ...         ...\n",
              "2019-12-20  485.960351  341.620370  348.139895  454.573313\n",
              "2019-12-23  489.814656  340.310995  351.382838  453.743993\n",
              "2019-12-26  496.398994  341.620370  356.724145  467.978069\n",
              "2019-12-27  496.919117  343.056378  355.770438  474.557992\n",
              "2019-12-30  491.383278  341.136255  353.862677  465.426545\n",
              "\n",
              "[494 rows x 4 columns]"
            ]
          },
          "metadata": {},
          "execution_count": 64
        }
      ]
    },
    {
      "cell_type": "markdown",
      "metadata": {
        "id": "nL4Y6OhvcOKe"
      },
      "source": [
        "# Calculando o Retorno da Carteira"
      ]
    },
    {
      "cell_type": "markdown",
      "metadata": {
        "id": "bmJ4eEROyzQk"
      },
      "source": [
        "### Calculando o Retorno da Carteira"
      ]
    },
    {
      "cell_type": "code",
      "metadata": {
        "id": "yaCRoXvNcCu-"
      },
      "source": [
        "valor_carteira['Total R$'] = valor_carteira.sum(axis=1)"
      ],
      "execution_count": null,
      "outputs": []
    },
    {
      "cell_type": "code",
      "metadata": {
        "colab": {
          "base_uri": "https://localhost:8080/",
          "height": 455
        },
        "id": "bMyrrlpvtq0_",
        "outputId": "704883c7-e942-4003-9dd9-438c7fc19b16"
      },
      "source": [
        "valor_carteira"
      ],
      "execution_count": null,
      "outputs": [
        {
          "output_type": "execute_result",
          "data": {
            "text/html": [
              "\n",
              "  <div id=\"df-2ed5f03e-e0ea-4c01-ad0f-eaa9f413cf2d\">\n",
              "    <div class=\"colab-df-container\">\n",
              "      <div>\n",
              "<style scoped>\n",
              "    .dataframe tbody tr th:only-of-type {\n",
              "        vertical-align: middle;\n",
              "    }\n",
              "\n",
              "    .dataframe tbody tr th {\n",
              "        vertical-align: top;\n",
              "    }\n",
              "\n",
              "    .dataframe thead th {\n",
              "        text-align: right;\n",
              "    }\n",
              "</style>\n",
              "<table border=\"1\" class=\"dataframe\">\n",
              "  <thead>\n",
              "    <tr style=\"text-align: right;\">\n",
              "      <th></th>\n",
              "      <th>Petro</th>\n",
              "      <th>Vale</th>\n",
              "      <th>Itub</th>\n",
              "      <th>Wege</th>\n",
              "      <th>Total R$</th>\n",
              "    </tr>\n",
              "    <tr>\n",
              "      <th>Date</th>\n",
              "      <th></th>\n",
              "      <th></th>\n",
              "      <th></th>\n",
              "      <th></th>\n",
              "      <th></th>\n",
              "    </tr>\n",
              "  </thead>\n",
              "  <tbody>\n",
              "    <tr>\n",
              "      <th>2018-01-02</th>\n",
              "      <td>250.000000</td>\n",
              "      <td>250.000000</td>\n",
              "      <td>250.000000</td>\n",
              "      <td>250.000000</td>\n",
              "      <td>1000.000000</td>\n",
              "    </tr>\n",
              "    <tr>\n",
              "      <th>2018-01-03</th>\n",
              "      <td>252.265889</td>\n",
              "      <td>248.501889</td>\n",
              "      <td>251.709210</td>\n",
              "      <td>246.203035</td>\n",
              "      <td>998.680022</td>\n",
              "    </tr>\n",
              "    <tr>\n",
              "      <th>2018-01-04</th>\n",
              "      <td>252.719010</td>\n",
              "      <td>249.520598</td>\n",
              "      <td>256.950825</td>\n",
              "      <td>243.804887</td>\n",
              "      <td>1002.995319</td>\n",
              "    </tr>\n",
              "    <tr>\n",
              "      <th>2018-01-05</th>\n",
              "      <td>254.229590</td>\n",
              "      <td>253.415630</td>\n",
              "      <td>257.691415</td>\n",
              "      <td>244.804165</td>\n",
              "      <td>1010.140800</td>\n",
              "    </tr>\n",
              "    <tr>\n",
              "      <th>2018-01-08</th>\n",
              "      <td>257.250788</td>\n",
              "      <td>259.048408</td>\n",
              "      <td>256.836897</td>\n",
              "      <td>246.802565</td>\n",
              "      <td>1019.938659</td>\n",
              "    </tr>\n",
              "    <tr>\n",
              "      <th>...</th>\n",
              "      <td>...</td>\n",
              "      <td>...</td>\n",
              "      <td>...</td>\n",
              "      <td>...</td>\n",
              "      <td>...</td>\n",
              "    </tr>\n",
              "    <tr>\n",
              "      <th>2019-12-20</th>\n",
              "      <td>485.960351</td>\n",
              "      <td>341.620370</td>\n",
              "      <td>348.139895</td>\n",
              "      <td>454.573313</td>\n",
              "      <td>1630.293929</td>\n",
              "    </tr>\n",
              "    <tr>\n",
              "      <th>2019-12-23</th>\n",
              "      <td>489.814656</td>\n",
              "      <td>340.310995</td>\n",
              "      <td>351.382838</td>\n",
              "      <td>453.743993</td>\n",
              "      <td>1635.252481</td>\n",
              "    </tr>\n",
              "    <tr>\n",
              "      <th>2019-12-26</th>\n",
              "      <td>496.398994</td>\n",
              "      <td>341.620370</td>\n",
              "      <td>356.724145</td>\n",
              "      <td>467.978069</td>\n",
              "      <td>1662.721578</td>\n",
              "    </tr>\n",
              "    <tr>\n",
              "      <th>2019-12-27</th>\n",
              "      <td>496.919117</td>\n",
              "      <td>343.056378</td>\n",
              "      <td>355.770438</td>\n",
              "      <td>474.557992</td>\n",
              "      <td>1670.303924</td>\n",
              "    </tr>\n",
              "    <tr>\n",
              "      <th>2019-12-30</th>\n",
              "      <td>491.383278</td>\n",
              "      <td>341.136255</td>\n",
              "      <td>353.862677</td>\n",
              "      <td>465.426545</td>\n",
              "      <td>1651.808755</td>\n",
              "    </tr>\n",
              "  </tbody>\n",
              "</table>\n",
              "<p>494 rows × 5 columns</p>\n",
              "</div>\n",
              "      <button class=\"colab-df-convert\" onclick=\"convertToInteractive('df-2ed5f03e-e0ea-4c01-ad0f-eaa9f413cf2d')\"\n",
              "              title=\"Convert this dataframe to an interactive table.\"\n",
              "              style=\"display:none;\">\n",
              "        \n",
              "  <svg xmlns=\"http://www.w3.org/2000/svg\" height=\"24px\"viewBox=\"0 0 24 24\"\n",
              "       width=\"24px\">\n",
              "    <path d=\"M0 0h24v24H0V0z\" fill=\"none\"/>\n",
              "    <path d=\"M18.56 5.44l.94 2.06.94-2.06 2.06-.94-2.06-.94-.94-2.06-.94 2.06-2.06.94zm-11 1L8.5 8.5l.94-2.06 2.06-.94-2.06-.94L8.5 2.5l-.94 2.06-2.06.94zm10 10l.94 2.06.94-2.06 2.06-.94-2.06-.94-.94-2.06-.94 2.06-2.06.94z\"/><path d=\"M17.41 7.96l-1.37-1.37c-.4-.4-.92-.59-1.43-.59-.52 0-1.04.2-1.43.59L10.3 9.45l-7.72 7.72c-.78.78-.78 2.05 0 2.83L4 21.41c.39.39.9.59 1.41.59.51 0 1.02-.2 1.41-.59l7.78-7.78 2.81-2.81c.8-.78.8-2.07 0-2.86zM5.41 20L4 18.59l7.72-7.72 1.47 1.35L5.41 20z\"/>\n",
              "  </svg>\n",
              "      </button>\n",
              "      \n",
              "  <style>\n",
              "    .colab-df-container {\n",
              "      display:flex;\n",
              "      flex-wrap:wrap;\n",
              "      gap: 12px;\n",
              "    }\n",
              "\n",
              "    .colab-df-convert {\n",
              "      background-color: #E8F0FE;\n",
              "      border: none;\n",
              "      border-radius: 50%;\n",
              "      cursor: pointer;\n",
              "      display: none;\n",
              "      fill: #1967D2;\n",
              "      height: 32px;\n",
              "      padding: 0 0 0 0;\n",
              "      width: 32px;\n",
              "    }\n",
              "\n",
              "    .colab-df-convert:hover {\n",
              "      background-color: #E2EBFA;\n",
              "      box-shadow: 0px 1px 2px rgba(60, 64, 67, 0.3), 0px 1px 3px 1px rgba(60, 64, 67, 0.15);\n",
              "      fill: #174EA6;\n",
              "    }\n",
              "\n",
              "    [theme=dark] .colab-df-convert {\n",
              "      background-color: #3B4455;\n",
              "      fill: #D2E3FC;\n",
              "    }\n",
              "\n",
              "    [theme=dark] .colab-df-convert:hover {\n",
              "      background-color: #434B5C;\n",
              "      box-shadow: 0px 1px 3px 1px rgba(0, 0, 0, 0.15);\n",
              "      filter: drop-shadow(0px 1px 2px rgba(0, 0, 0, 0.3));\n",
              "      fill: #FFFFFF;\n",
              "    }\n",
              "  </style>\n",
              "\n",
              "      <script>\n",
              "        const buttonEl =\n",
              "          document.querySelector('#df-2ed5f03e-e0ea-4c01-ad0f-eaa9f413cf2d button.colab-df-convert');\n",
              "        buttonEl.style.display =\n",
              "          google.colab.kernel.accessAllowed ? 'block' : 'none';\n",
              "\n",
              "        async function convertToInteractive(key) {\n",
              "          const element = document.querySelector('#df-2ed5f03e-e0ea-4c01-ad0f-eaa9f413cf2d');\n",
              "          const dataTable =\n",
              "            await google.colab.kernel.invokeFunction('convertToInteractive',\n",
              "                                                     [key], {});\n",
              "          if (!dataTable) return;\n",
              "\n",
              "          const docLinkHtml = 'Like what you see? Visit the ' +\n",
              "            '<a target=\"_blank\" href=https://colab.research.google.com/notebooks/data_table.ipynb>data table notebook</a>'\n",
              "            + ' to learn more about interactive tables.';\n",
              "          element.innerHTML = '';\n",
              "          dataTable['output_type'] = 'display_data';\n",
              "          await google.colab.output.renderOutput(dataTable, element);\n",
              "          const docLink = document.createElement('div');\n",
              "          docLink.innerHTML = docLinkHtml;\n",
              "          element.appendChild(docLink);\n",
              "        }\n",
              "      </script>\n",
              "    </div>\n",
              "  </div>\n",
              "  "
            ],
            "text/plain": [
              "                 Petro        Vale        Itub        Wege     Total R$\n",
              "Date                                                                   \n",
              "2018-01-02  250.000000  250.000000  250.000000  250.000000  1000.000000\n",
              "2018-01-03  252.265889  248.501889  251.709210  246.203035   998.680022\n",
              "2018-01-04  252.719010  249.520598  256.950825  243.804887  1002.995319\n",
              "2018-01-05  254.229590  253.415630  257.691415  244.804165  1010.140800\n",
              "2018-01-08  257.250788  259.048408  256.836897  246.802565  1019.938659\n",
              "...                ...         ...         ...         ...          ...\n",
              "2019-12-20  485.960351  341.620370  348.139895  454.573313  1630.293929\n",
              "2019-12-23  489.814656  340.310995  351.382838  453.743993  1635.252481\n",
              "2019-12-26  496.398994  341.620370  356.724145  467.978069  1662.721578\n",
              "2019-12-27  496.919117  343.056378  355.770438  474.557992  1670.303924\n",
              "2019-12-30  491.383278  341.136255  353.862677  465.426545  1651.808755\n",
              "\n",
              "[494 rows x 5 columns]"
            ]
          },
          "metadata": {},
          "execution_count": 66
        }
      ]
    },
    {
      "cell_type": "markdown",
      "metadata": {
        "id": "nvA8A11Zy7hV"
      },
      "source": [
        "### Comprarando o Retorno da Carteira com o Ibovespa e Exibindo no Gráfico Normalizado (Todos Ativos da Carteira em um único Ativo, Média dos ativos)"
      ]
    },
    {
      "cell_type": "code",
      "metadata": {
        "colab": {
          "base_uri": "https://localhost:8080/",
          "height": 490
        },
        "id": "PHNUwOIqzKL8",
        "outputId": "45976e85-0d7c-4a8b-ed57-6b6964742b32"
      },
      "source": [
        "(valor_carteira['Total R$'] / valor_carteira['Total R$'].iloc[0]).plot(figsize=(10,8), label=\"Carteira\")\n",
        "(ibov['Adj Close'] /  ibov['Adj Close'].iloc[0]).plot(label=\"Ibovespa\")\n",
        "plt.legend()"
      ],
      "execution_count": null,
      "outputs": [
        {
          "output_type": "execute_result",
          "data": {
            "text/plain": [
              "<matplotlib.legend.Legend at 0x7f64a8bdb890>"
            ]
          },
          "metadata": {},
          "execution_count": 67
        },
        {
          "output_type": "display_data",
          "data": {
            "image/png": "[encoded data removed]",
            "text/plain": [
              "<Figure size 720x576 with 1 Axes>"
            ]
          },
          "metadata": {
            "needs_background": "light"
          }
        }
      ]
    },
    {
      "cell_type": "markdown",
      "metadata": {
        "id": "wfYBlB3KFZ5a"
      },
      "source": [
        "### Exibir Gráficamente de foma Normalizada Todos os Ativos da Carteira"
      ]
    },
    {
      "cell_type": "code",
      "metadata": {
        "colab": {
          "base_uri": "https://localhost:8080/",
          "height": 392
        },
        "id": "6MsnfzV40NUH",
        "outputId": "befbd7aa-1092-442d-b081-3a308555795f"
      },
      "source": [
        "(valor_carteira / valor_carteira.iloc[0]).plot(figsize=(10,6))"
      ],
      "execution_count": null,
      "outputs": [
        {
          "output_type": "execute_result",
          "data": {
            "text/plain": [
              "<matplotlib.axes._subplots.AxesSubplot at 0x7f64a8c65250>"
            ]
          },
          "metadata": {},
          "execution_count": 68
        },
        {
          "output_type": "display_data",
          "data": {
            "image/png": "[encoded data removed]",
            "text/plain": [
              "<Figure size 720x432 with 1 Axes>"
            ]
          },
          "metadata": {
            "needs_background": "light"
          }
        }
      ]
    },
    {
      "cell_type": "markdown",
      "metadata": {
        "id": "sSL1UINiGYpd"
      },
      "source": [
        "# Calculo do Retorno Diário da Carteira"
      ]
    },
    {
      "cell_type": "markdown",
      "metadata": {
        "id": "nKxcrUZxGp-0"
      },
      "source": [
        "### Calculo do Retorno Diário da Carteira"
      ]
    },
    {
      "cell_type": "code",
      "metadata": {
        "id": "0Nm3YQzfFTJH"
      },
      "source": [
        "valor_carteira['Retorno Diário'] = valor_carteira['Total R$'].pct_change() * 100"
      ],
      "execution_count": null,
      "outputs": []
    },
    {
      "cell_type": "code",
      "metadata": {
        "colab": {
          "base_uri": "https://localhost:8080/",
          "height": 238
        },
        "id": "9oqVJf5CG96l",
        "outputId": "f03e3eb2-9c9a-4e4e-8af4-eb77168774e8"
      },
      "source": [
        "valor_carteira.tail(5)"
      ],
      "execution_count": null,
      "outputs": [
        {
          "output_type": "execute_result",
          "data": {
            "text/html": [
              "\n",
              "  <div id=\"df-c9a70427-0d92-4d34-8bf4-3e495292bdc0\">\n",
              "    <div class=\"colab-df-container\">\n",
              "      <div>\n",
              "<style scoped>\n",
              "    .dataframe tbody tr th:only-of-type {\n",
              "        vertical-align: middle;\n",
              "    }\n",
              "\n",
              "    .dataframe tbody tr th {\n",
              "        vertical-align: top;\n",
              "    }\n",
              "\n",
              "    .dataframe thead th {\n",
              "        text-align: right;\n",
              "    }\n",
              "</style>\n",
              "<table border=\"1\" class=\"dataframe\">\n",
              "  <thead>\n",
              "    <tr style=\"text-align: right;\">\n",
              "      <th></th>\n",
              "      <th>Petro</th>\n",
              "      <th>Vale</th>\n",
              "      <th>Itub</th>\n",
              "      <th>Wege</th>\n",
              "      <th>Total R$</th>\n",
              "      <th>Retorno Diário</th>\n",
              "    </tr>\n",
              "    <tr>\n",
              "      <th>Date</th>\n",
              "      <th></th>\n",
              "      <th></th>\n",
              "      <th></th>\n",
              "      <th></th>\n",
              "      <th></th>\n",
              "      <th></th>\n",
              "    </tr>\n",
              "  </thead>\n",
              "  <tbody>\n",
              "    <tr>\n",
              "      <th>2019-12-20</th>\n",
              "      <td>485.960351</td>\n",
              "      <td>341.620370</td>\n",
              "      <td>348.139895</td>\n",
              "      <td>454.573313</td>\n",
              "      <td>1630.293929</td>\n",
              "      <td>0.102453</td>\n",
              "    </tr>\n",
              "    <tr>\n",
              "      <th>2019-12-23</th>\n",
              "      <td>489.814656</td>\n",
              "      <td>340.310995</td>\n",
              "      <td>351.382838</td>\n",
              "      <td>453.743993</td>\n",
              "      <td>1635.252481</td>\n",
              "      <td>0.304151</td>\n",
              "    </tr>\n",
              "    <tr>\n",
              "      <th>2019-12-26</th>\n",
              "      <td>496.398994</td>\n",
              "      <td>341.620370</td>\n",
              "      <td>356.724145</td>\n",
              "      <td>467.978069</td>\n",
              "      <td>1662.721578</td>\n",
              "      <td>1.679808</td>\n",
              "    </tr>\n",
              "    <tr>\n",
              "      <th>2019-12-27</th>\n",
              "      <td>496.919117</td>\n",
              "      <td>343.056378</td>\n",
              "      <td>355.770438</td>\n",
              "      <td>474.557992</td>\n",
              "      <td>1670.303924</td>\n",
              "      <td>0.456020</td>\n",
              "    </tr>\n",
              "    <tr>\n",
              "      <th>2019-12-30</th>\n",
              "      <td>491.383278</td>\n",
              "      <td>341.136255</td>\n",
              "      <td>353.862677</td>\n",
              "      <td>465.426545</td>\n",
              "      <td>1651.808755</td>\n",
              "      <td>-1.107294</td>\n",
              "    </tr>\n",
              "  </tbody>\n",
              "</table>\n",
              "</div>\n",
              "      <button class=\"colab-df-convert\" onclick=\"convertToInteractive('df-c9a70427-0d92-4d34-8bf4-3e495292bdc0')\"\n",
              "              title=\"Convert this dataframe to an interactive table.\"\n",
              "              style=\"display:none;\">\n",
              "        \n",
              "  <svg xmlns=\"http://www.w3.org/2000/svg\" height=\"24px\"viewBox=\"0 0 24 24\"\n",
              "       width=\"24px\">\n",
              "    <path d=\"M0 0h24v24H0V0z\" fill=\"none\"/>\n",
              "    <path d=\"M18.56 5.44l.94 2.06.94-2.06 2.06-.94-2.06-.94-.94-2.06-.94 2.06-2.06.94zm-11 1L8.5 8.5l.94-2.06 2.06-.94-2.06-.94L8.5 2.5l-.94 2.06-2.06.94zm10 10l.94 2.06.94-2.06 2.06-.94-2.06-.94-.94-2.06-.94 2.06-2.06.94z\"/><path d=\"M17.41 7.96l-1.37-1.37c-.4-.4-.92-.59-1.43-.59-.52 0-1.04.2-1.43.59L10.3 9.45l-7.72 7.72c-.78.78-.78 2.05 0 2.83L4 21.41c.39.39.9.59 1.41.59.51 0 1.02-.2 1.41-.59l7.78-7.78 2.81-2.81c.8-.78.8-2.07 0-2.86zM5.41 20L4 18.59l7.72-7.72 1.47 1.35L5.41 20z\"/>\n",
              "  </svg>\n",
              "      </button>\n",
              "      \n",
              "  <style>\n",
              "    .colab-df-container {\n",
              "      display:flex;\n",
              "      flex-wrap:wrap;\n",
              "      gap: 12px;\n",
              "    }\n",
              "\n",
              "    .colab-df-convert {\n",
              "      background-color: #E8F0FE;\n",
              "      border: none;\n",
              "      border-radius: 50%;\n",
              "      cursor: pointer;\n",
              "      display: none;\n",
              "      fill: #1967D2;\n",
              "      height: 32px;\n",
              "      padding: 0 0 0 0;\n",
              "      width: 32px;\n",
              "    }\n",
              "\n",
              "    .colab-df-convert:hover {\n",
              "      background-color: #E2EBFA;\n",
              "      box-shadow: 0px 1px 2px rgba(60, 64, 67, 0.3), 0px 1px 3px 1px rgba(60, 64, 67, 0.15);\n",
              "      fill: #174EA6;\n",
              "    }\n",
              "\n",
              "    [theme=dark] .colab-df-convert {\n",
              "      background-color: #3B4455;\n",
              "      fill: #D2E3FC;\n",
              "    }\n",
              "\n",
              "    [theme=dark] .colab-df-convert:hover {\n",
              "      background-color: #434B5C;\n",
              "      box-shadow: 0px 1px 3px 1px rgba(0, 0, 0, 0.15);\n",
              "      filter: drop-shadow(0px 1px 2px rgba(0, 0, 0, 0.3));\n",
              "      fill: #FFFFFF;\n",
              "    }\n",
              "  </style>\n",
              "\n",
              "      <script>\n",
              "        const buttonEl =\n",
              "          document.querySelector('#df-c9a70427-0d92-4d34-8bf4-3e495292bdc0 button.colab-df-convert');\n",
              "        buttonEl.style.display =\n",
              "          google.colab.kernel.accessAllowed ? 'block' : 'none';\n",
              "\n",
              "        async function convertToInteractive(key) {\n",
              "          const element = document.querySelector('#df-c9a70427-0d92-4d34-8bf4-3e495292bdc0');\n",
              "          const dataTable =\n",
              "            await google.colab.kernel.invokeFunction('convertToInteractive',\n",
              "                                                     [key], {});\n",
              "          if (!dataTable) return;\n",
              "\n",
              "          const docLinkHtml = 'Like what you see? Visit the ' +\n",
              "            '<a target=\"_blank\" href=https://colab.research.google.com/notebooks/data_table.ipynb>data table notebook</a>'\n",
              "            + ' to learn more about interactive tables.';\n",
              "          element.innerHTML = '';\n",
              "          dataTable['output_type'] = 'display_data';\n",
              "          await google.colab.output.renderOutput(dataTable, element);\n",
              "          const docLink = document.createElement('div');\n",
              "          docLink.innerHTML = docLinkHtml;\n",
              "          element.appendChild(docLink);\n",
              "        }\n",
              "      </script>\n",
              "    </div>\n",
              "  </div>\n",
              "  "
            ],
            "text/plain": [
              "                 Petro        Vale  ...     Total R$  Retorno Diário\n",
              "Date                                ...                             \n",
              "2019-12-20  485.960351  341.620370  ...  1630.293929        0.102453\n",
              "2019-12-23  489.814656  340.310995  ...  1635.252481        0.304151\n",
              "2019-12-26  496.398994  341.620370  ...  1662.721578        1.679808\n",
              "2019-12-27  496.919117  343.056378  ...  1670.303924        0.456020\n",
              "2019-12-30  491.383278  341.136255  ...  1651.808755       -1.107294\n",
              "\n",
              "[5 rows x 6 columns]"
            ]
          },
          "metadata": {},
          "execution_count": 70
        }
      ]
    },
    {
      "cell_type": "markdown",
      "metadata": {
        "id": "oWfNnFPEHUIg"
      },
      "source": [
        "### Calculo do Retorno Médio Diário da Carteira"
      ]
    },
    {
      "cell_type": "code",
      "metadata": {
        "colab": {
          "base_uri": "https://localhost:8080/"
        },
        "id": "wPiWOJZmG_EU",
        "outputId": "8e09a11f-2145-4854-96be-b7af2f1ad7e6"
      },
      "source": [
        "valor_carteira['Retorno Diário'].mean()"
      ],
      "execution_count": null,
      "outputs": [
        {
          "output_type": "execute_result",
          "data": {
            "text/plain": [
              "0.11284620766566732"
            ]
          },
          "metadata": {},
          "execution_count": 71
        }
      ]
    },
    {
      "cell_type": "markdown",
      "metadata": {
        "id": "4oJR_VyrHsyL"
      },
      "source": [
        "### Calculo do DESVIO PADÃO Diário da Carteira"
      ]
    },
    {
      "cell_type": "code",
      "metadata": {
        "colab": {
          "base_uri": "https://localhost:8080/"
        },
        "id": "zbjB7FqNH11k",
        "outputId": "57133246-52d7-4f81-811c-b7f0eed7b6a2"
      },
      "source": [
        "valor_carteira['Retorno Diário'].std()"
      ],
      "execution_count": null,
      "outputs": [
        {
          "output_type": "execute_result",
          "data": {
            "text/plain": [
              "1.4826847967238719"
            ]
          },
          "metadata": {},
          "execution_count": 72
        }
      ]
    },
    {
      "cell_type": "markdown",
      "metadata": {
        "id": "81D3s59kH_GX"
      },
      "source": [
        "## Calculo da Distribuição Diário da Carteira. Usando um Gráfico de Barras e ou Linha no modelo Histograma."
      ]
    },
    {
      "cell_type": "markdown",
      "metadata": {
        "id": "ND8kKL__JrKR"
      },
      "source": [
        "### Calculo da Distribuição Diário da Carteira. Usando um Gráfico de Barras modelo Histograma."
      ]
    },
    {
      "cell_type": "code",
      "metadata": {
        "colab": {
          "base_uri": "https://localhost:8080/",
          "height": 337
        },
        "id": "qM_o2sRkH8is",
        "outputId": "1ce65e42-9af4-4166-838d-a8c1052f7e62"
      },
      "source": [
        "valor_carteira['Retorno Diário'].plot(kind='hist', bins=100, figsize=(8,5)) \n",
        "# kind='hist defique que será do modelo Histograma. bins=100 defina quantas linhas vão aparecer, barras."
      ],
      "execution_count": null,
      "outputs": [
        {
          "output_type": "execute_result",
          "data": {
            "text/plain": [
              "<matplotlib.axes._subplots.AxesSubplot at 0x7f64a8beea50>"
            ]
          },
          "metadata": {},
          "execution_count": 73
        },
        {
          "output_type": "display_data",
          "data": {
            "image/png": "[encoded data removed]",
            "text/plain": [
              "<Figure size 576x360 with 1 Axes>"
            ]
          },
          "metadata": {
            "needs_background": "light"
          }
        }
      ]
    },
    {
      "cell_type": "markdown",
      "metadata": {
        "id": "SIcoqq0rJ2OP"
      },
      "source": [
        "### Calculo da Distribuição Diário da Carteira. Usando um Gráfico de Linha no modelo Histograma."
      ]
    },
    {
      "cell_type": "code",
      "metadata": {
        "colab": {
          "base_uri": "https://localhost:8080/",
          "height": 337
        },
        "id": "O5LxlHBTIZeY",
        "outputId": "e3b370f3-d422-461c-89b1-38e250756c2b"
      },
      "source": [
        "valor_carteira['Retorno Diário'].plot(kind='kde', figsize=(8,5))"
      ],
      "execution_count": null,
      "outputs": [
        {
          "output_type": "execute_result",
          "data": {
            "text/plain": [
              "<matplotlib.axes._subplots.AxesSubplot at 0x7f64a85ead10>"
            ]
          },
          "metadata": {},
          "execution_count": 74
        },
        {
          "output_type": "display_data",
          "data": {
            "image/png": "[encoded data removed]",
            "text/plain": [
              "<Figure size 576x360 with 1 Axes>"
            ]
          },
          "metadata": {
            "needs_background": "light"
          }
        }
      ]
    },
    {
      "cell_type": "markdown",
      "metadata": {
        "id": "dGQflGPhKXW9"
      },
      "source": [
        "## Calculando o Retorno ACUMULADO da carteira"
      ]
    },
    {
      "cell_type": "code",
      "metadata": {
        "id": "TaxWzDCmI_r7"
      },
      "source": [
        "retorno_aplicacao = (valor_carteira['Total R$'][-1] / valor_carteira['Total R$'][0] -1) * 100\n",
        "\n",
        "# retorno em Porcentagem"
      ],
      "execution_count": null,
      "outputs": []
    },
    {
      "cell_type": "code",
      "metadata": {
        "colab": {
          "base_uri": "https://localhost:8080/"
        },
        "id": "GaNbkxe5KUlu",
        "outputId": "91817a77-af3e-46af-ec4d-297ee3293d8d"
      },
      "source": [
        "retorno_aplicacao "
      ],
      "execution_count": null,
      "outputs": [
        {
          "output_type": "execute_result",
          "data": {
            "text/plain": [
              "65.1808754869526"
            ]
          },
          "metadata": {},
          "execution_count": 76
        }
      ]
    },
    {
      "cell_type": "markdown",
      "metadata": {
        "id": "PWXmjx2ucC16"
      },
      "source": [
        "# Variáveis que recebe o tempo desejado"
      ]
    },
    {
      "cell_type": "markdown",
      "metadata": {
        "id": "TwwDM80ScASC"
      },
      "source": [
        "### Variáveis que recebe o tempo desejado"
      ]
    },
    {
      "cell_type": "code",
      "metadata": {
        "id": "U-eqmQA2KWFQ"
      },
      "source": [
        "start = datetime.datetime(2018,1,1)\n",
        "end = datetime.datetime(2020,6,1)"
      ],
      "execution_count": null,
      "outputs": []
    },
    {
      "cell_type": "markdown",
      "metadata": {
        "id": "_jmgPcrRce9l"
      },
      "source": [
        "### Criação da Lista do Carteira"
      ]
    },
    {
      "cell_type": "code",
      "metadata": {
        "id": "WyuRDDJQcLrt"
      },
      "source": [
        "papeis = ['btow3.sa', 'lame4.sa', 'sled4.sa', '^bvsp']\n"
      ],
      "execution_count": null,
      "outputs": []
    },
    {
      "cell_type": "markdown",
      "metadata": {
        "id": "K-WV3Rw4dzqD"
      },
      "source": [
        "# Pegando Dados da Carteira no Yahoo"
      ]
    },
    {
      "cell_type": "code",
      "metadata": {
        "id": "W55KDpchch6r",
        "colab": {
          "base_uri": "https://localhost:8080/"
        },
        "outputId": "0545a9d7-9a33-4c82-dbd7-20498fba3c20"
      },
      "source": [
        "#carteira = dt.get_data_yahoo(papeis, start, end)['Adj Close']\n",
        "carteira = y.download(papeis, start, end)['Adj Close']"
      ],
      "execution_count": null,
      "outputs": [
        {
          "output_type": "stream",
          "name": "stdout",
          "text": [
            "[*********************100%***********************]  4 of 4 completed\n",
            "\n",
            "1 Failed download:\n",
            "- BTOW3.SA: No data found, symbol may be delisted\n"
          ]
        }
      ]
    },
    {
      "cell_type": "code",
      "metadata": {
        "id": "gMQG0X7Yc4Jw"
      },
      "source": [
        "carteira.columns = ['B2W Digital', 'Lojas Americanas', 'Saraiva', 'Ibovespa']"
      ],
      "execution_count": null,
      "outputs": []
    },
    {
      "cell_type": "code",
      "metadata": {
        "colab": {
          "base_uri": "https://localhost:8080/",
          "height": 238
        },
        "id": "Bx4JGs9ecwp5",
        "outputId": "bfa34a1b-cc8a-4ca3-d8ac-eca0930c133c"
      },
      "source": [
        "carteira.tail()"
      ],
      "execution_count": null,
      "outputs": [
        {
          "output_type": "execute_result",
          "data": {
            "text/html": [
              "\n",
              "  <div id=\"df-a0f1547f-1ee6-4ab3-acbf-21000f5ac3ed\">\n",
              "    <div class=\"colab-df-container\">\n",
              "      <div>\n",
              "<style scoped>\n",
              "    .dataframe tbody tr th:only-of-type {\n",
              "        vertical-align: middle;\n",
              "    }\n",
              "\n",
              "    .dataframe tbody tr th {\n",
              "        vertical-align: top;\n",
              "    }\n",
              "\n",
              "    .dataframe thead th {\n",
              "        text-align: right;\n",
              "    }\n",
              "</style>\n",
              "<table border=\"1\" class=\"dataframe\">\n",
              "  <thead>\n",
              "    <tr style=\"text-align: right;\">\n",
              "      <th></th>\n",
              "      <th>B2W Digital</th>\n",
              "      <th>Lojas Americanas</th>\n",
              "      <th>Saraiva</th>\n",
              "      <th>Ibovespa</th>\n",
              "    </tr>\n",
              "    <tr>\n",
              "      <th>Date</th>\n",
              "      <th></th>\n",
              "      <th></th>\n",
              "      <th></th>\n",
              "      <th></th>\n",
              "    </tr>\n",
              "  </thead>\n",
              "  <tbody>\n",
              "    <tr>\n",
              "      <th>2020-05-25</th>\n",
              "      <td>NaN</td>\n",
              "      <td>25.475288</td>\n",
              "      <td>24.850372</td>\n",
              "      <td>85663.0</td>\n",
              "    </tr>\n",
              "    <tr>\n",
              "      <th>2020-05-26</th>\n",
              "      <td>NaN</td>\n",
              "      <td>26.613020</td>\n",
              "      <td>23.800358</td>\n",
              "      <td>85469.0</td>\n",
              "    </tr>\n",
              "    <tr>\n",
              "      <th>2020-05-27</th>\n",
              "      <td>NaN</td>\n",
              "      <td>28.591682</td>\n",
              "      <td>24.500366</td>\n",
              "      <td>87946.0</td>\n",
              "    </tr>\n",
              "    <tr>\n",
              "      <th>2020-05-28</th>\n",
              "      <td>NaN</td>\n",
              "      <td>28.403708</td>\n",
              "      <td>24.150362</td>\n",
              "      <td>86949.0</td>\n",
              "    </tr>\n",
              "    <tr>\n",
              "      <th>2020-05-29</th>\n",
              "      <td>NaN</td>\n",
              "      <td>27.948616</td>\n",
              "      <td>24.150362</td>\n",
              "      <td>87403.0</td>\n",
              "    </tr>\n",
              "  </tbody>\n",
              "</table>\n",
              "</div>\n",
              "      <button class=\"colab-df-convert\" onclick=\"convertToInteractive('df-a0f1547f-1ee6-4ab3-acbf-21000f5ac3ed')\"\n",
              "              title=\"Convert this dataframe to an interactive table.\"\n",
              "              style=\"display:none;\">\n",
              "        \n",
              "  <svg xmlns=\"http://www.w3.org/2000/svg\" height=\"24px\"viewBox=\"0 0 24 24\"\n",
              "       width=\"24px\">\n",
              "    <path d=\"M0 0h24v24H0V0z\" fill=\"none\"/>\n",
              "    <path d=\"M18.56 5.44l.94 2.06.94-2.06 2.06-.94-2.06-.94-.94-2.06-.94 2.06-2.06.94zm-11 1L8.5 8.5l.94-2.06 2.06-.94-2.06-.94L8.5 2.5l-.94 2.06-2.06.94zm10 10l.94 2.06.94-2.06 2.06-.94-2.06-.94-.94-2.06-.94 2.06-2.06.94z\"/><path d=\"M17.41 7.96l-1.37-1.37c-.4-.4-.92-.59-1.43-.59-.52 0-1.04.2-1.43.59L10.3 9.45l-7.72 7.72c-.78.78-.78 2.05 0 2.83L4 21.41c.39.39.9.59 1.41.59.51 0 1.02-.2 1.41-.59l7.78-7.78 2.81-2.81c.8-.78.8-2.07 0-2.86zM5.41 20L4 18.59l7.72-7.72 1.47 1.35L5.41 20z\"/>\n",
              "  </svg>\n",
              "      </button>\n",
              "      \n",
              "  <style>\n",
              "    .colab-df-container {\n",
              "      display:flex;\n",
              "      flex-wrap:wrap;\n",
              "      gap: 12px;\n",
              "    }\n",
              "\n",
              "    .colab-df-convert {\n",
              "      background-color: #E8F0FE;\n",
              "      border: none;\n",
              "      border-radius: 50%;\n",
              "      cursor: pointer;\n",
              "      display: none;\n",
              "      fill: #1967D2;\n",
              "      height: 32px;\n",
              "      padding: 0 0 0 0;\n",
              "      width: 32px;\n",
              "    }\n",
              "\n",
              "    .colab-df-convert:hover {\n",
              "      background-color: #E2EBFA;\n",
              "      box-shadow: 0px 1px 2px rgba(60, 64, 67, 0.3), 0px 1px 3px 1px rgba(60, 64, 67, 0.15);\n",
              "      fill: #174EA6;\n",
              "    }\n",
              "\n",
              "    [theme=dark] .colab-df-convert {\n",
              "      background-color: #3B4455;\n",
              "      fill: #D2E3FC;\n",
              "    }\n",
              "\n",
              "    [theme=dark] .colab-df-convert:hover {\n",
              "      background-color: #434B5C;\n",
              "      box-shadow: 0px 1px 3px 1px rgba(0, 0, 0, 0.15);\n",
              "      filter: drop-shadow(0px 1px 2px rgba(0, 0, 0, 0.3));\n",
              "      fill: #FFFFFF;\n",
              "    }\n",
              "  </style>\n",
              "\n",
              "      <script>\n",
              "        const buttonEl =\n",
              "          document.querySelector('#df-a0f1547f-1ee6-4ab3-acbf-21000f5ac3ed button.colab-df-convert');\n",
              "        buttonEl.style.display =\n",
              "          google.colab.kernel.accessAllowed ? 'block' : 'none';\n",
              "\n",
              "        async function convertToInteractive(key) {\n",
              "          const element = document.querySelector('#df-a0f1547f-1ee6-4ab3-acbf-21000f5ac3ed');\n",
              "          const dataTable =\n",
              "            await google.colab.kernel.invokeFunction('convertToInteractive',\n",
              "                                                     [key], {});\n",
              "          if (!dataTable) return;\n",
              "\n",
              "          const docLinkHtml = 'Like what you see? Visit the ' +\n",
              "            '<a target=\"_blank\" href=https://colab.research.google.com/notebooks/data_table.ipynb>data table notebook</a>'\n",
              "            + ' to learn more about interactive tables.';\n",
              "          element.innerHTML = '';\n",
              "          dataTable['output_type'] = 'display_data';\n",
              "          await google.colab.output.renderOutput(dataTable, element);\n",
              "          const docLink = document.createElement('div');\n",
              "          docLink.innerHTML = docLinkHtml;\n",
              "          element.appendChild(docLink);\n",
              "        }\n",
              "      </script>\n",
              "    </div>\n",
              "  </div>\n",
              "  "
            ],
            "text/plain": [
              "            B2W Digital  Lojas Americanas    Saraiva  Ibovespa\n",
              "Date                                                          \n",
              "2020-05-25          NaN         25.475288  24.850372   85663.0\n",
              "2020-05-26          NaN         26.613020  23.800358   85469.0\n",
              "2020-05-27          NaN         28.591682  24.500366   87946.0\n",
              "2020-05-28          NaN         28.403708  24.150362   86949.0\n",
              "2020-05-29          NaN         27.948616  24.150362   87403.0"
            ]
          },
          "metadata": {},
          "execution_count": 82
        }
      ]
    },
    {
      "cell_type": "markdown",
      "metadata": {
        "id": "T9j7W45Bd8KV"
      },
      "source": [
        "# Mostrando o Resultado da Carteira no Gráfico NORMALIZADO"
      ]
    },
    {
      "cell_type": "code",
      "metadata": {
        "colab": {
          "base_uri": "https://localhost:8080/",
          "height": 482
        },
        "id": "OWPpvyCgdqw0",
        "outputId": "e14e74d7-708e-4f1b-a22a-8794171af0ca"
      },
      "source": [
        "(carteira / carteira.iloc[0]).plot(figsize=(10,8))"
      ],
      "execution_count": null,
      "outputs": [
        {
          "output_type": "execute_result",
          "data": {
            "text/plain": [
              "<matplotlib.axes._subplots.AxesSubplot at 0x7f64972b1590>"
            ]
          },
          "metadata": {},
          "execution_count": 83
        },
        {
          "output_type": "display_data",
          "data": {
            "image/png": "[encoded data removed]",
            "text/plain": [
              "<Figure size 720x576 with 1 Axes>"
            ]
          },
          "metadata": {
            "needs_background": "light"
          }
        }
      ]
    }
  ]
}
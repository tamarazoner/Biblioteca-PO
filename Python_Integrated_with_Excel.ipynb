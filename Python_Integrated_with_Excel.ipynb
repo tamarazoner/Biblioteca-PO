{
  "nbformat": 4,
  "nbformat_minor": 0,
  "metadata": {
    "colab": {
      "provenance": [],
      "toc_visible": true,
      "include_colab_link": true
    },
    "kernelspec": {
      "display_name": "Python 3",
      "name": "python3"
    }
  },
  "cells": [
    {
      "cell_type": "markdown",
      "metadata": {
        "id": "view-in-github",
        "colab_type": "text"
      },
      "source": [
        "<a href=\"https://colab.research.google.com/github/tamarazoner/Biblioteca-PO/blob/master/Python_Integrated_with_Excel.ipynb\" target=\"_parent\"><img src=\"https://colab.research.google.com/assets/colab-badge.svg\" alt=\"Open In Colab\"/></a>"
      ]
    },
    {
      "cell_type": "markdown",
      "metadata": {
        "id": "yyhZhtAf0GRQ"
      },
      "source": [
        "Link da Planilha:https://docs.google.com/spreadsheets/d/1J_oaKfgGT_X3vQLDeUPbxCGmjEsZ8iL4tkoLsEBuoEU/edit#gid=266671454 \n",
        "Link da Planilha na Web: https://docs.google.com/spreadsheets/d/e/2PACX-1vQ76CLDTkNjD5Rxy1q-X37x8U6Y1nR9N1bGQDKpvbGrKv1XCMB4iuRshlWpS2jPA7e5VkU8ioXjwd7r/pubhtml"
      ]
    },
    {
      "cell_type": "markdown",
      "metadata": {
        "id": "aullpZaSsSKI"
      },
      "source": [
        "# Importando Bibliotecas \n",
        "`(Sempre que desconectar deve realizar este processo)`"
      ]
    },
    {
      "cell_type": "code",
      "metadata": {
        "colab": {
          "base_uri": "https://localhost:8080/"
        },
        "id": "8f78dBjnA3Y-",
        "outputId": "f22f80bd-d0f7-4dca-9e25-b849001c8eae"
      },
      "source": [
        "!pip install gspread #Instalando gspread"
      ],
      "execution_count": null,
      "outputs": [
        {
          "output_type": "stream",
          "text": [
            "Requirement already satisfied: gspread in /usr/local/lib/python3.7/dist-packages (3.0.1)\n",
            "Requirement already satisfied: requests>=2.2.1 in /usr/local/lib/python3.7/dist-packages (from gspread) (2.23.0)\n",
            "Requirement already satisfied: urllib3!=1.25.0,!=1.25.1,<1.26,>=1.21.1 in /usr/local/lib/python3.7/dist-packages (from requests>=2.2.1->gspread) (1.24.3)\n",
            "Requirement already satisfied: idna<3,>=2.5 in /usr/local/lib/python3.7/dist-packages (from requests>=2.2.1->gspread) (2.10)\n",
            "Requirement already satisfied: chardet<4,>=3.0.2 in /usr/local/lib/python3.7/dist-packages (from requests>=2.2.1->gspread) (3.0.4)\n",
            "Requirement already satisfied: certifi>=2017.4.17 in /usr/local/lib/python3.7/dist-packages (from requests>=2.2.1->gspread) (2020.12.5)\n"
          ],
          "name": "stdout"
        }
      ]
    },
    {
      "cell_type": "code",
      "metadata": {
        "id": "VgLSPFycA9SJ"
      },
      "source": [
        "from google.colab import auth\n",
        "import gspread\n",
        "from oauth2client.client import GoogleCredentials\n",
        "\n",
        "from google.colab.data_table import DataTable  #Tabelas Dinanica\n"
      ],
      "execution_count": null,
      "outputs": []
    },
    {
      "cell_type": "code",
      "metadata": {
        "id": "ATgRk2WAZSBr"
      },
      "source": [
        "import pandas as pd\n",
        "import numpy as np\n",
        "from pandas_datareader import data as dt\n",
        "import datetime\n",
        "\n",
        "import matplotlib.pyplot as plt\n",
        "%matplotlib inline"
      ],
      "execution_count": null,
      "outputs": []
    },
    {
      "cell_type": "markdown",
      "metadata": {
        "id": "FULfmY3wwND6"
      },
      "source": [
        "# Realizando Processo de Autenticação para Acessar a Planilha \n",
        "\n",
        "```\n",
        "# Isso deve ser feito no primeiro acesso do dia ou sempre que desconectar deve realizar este processo`\n",
        "```\n",
        "\n"
      ]
    },
    {
      "cell_type": "markdown",
      "metadata": {
        "id": "Ptv0G943triR"
      },
      "source": [
        "### Realizando a Autenticação do Google Sheets \n",
        "`(Primeiro acesso do dia)`"
      ]
    },
    {
      "cell_type": "code",
      "metadata": {
        "id": "bJGFIHvJxcfo"
      },
      "source": [
        "auth.authenticate_user()    #Realizando a Autenticação\n",
        "gc = gspread.authorize(GoogleCredentials.get_application_default())  "
      ],
      "execution_count": null,
      "outputs": []
    },
    {
      "cell_type": "markdown",
      "metadata": {
        "id": "PLGoqsjliO8P"
      },
      "source": [
        "### Abrindo a Planilha (Acessando planilha) \n",
        "`(Primeiro acesso do dia)`\n",
        "\n",
        "\n",
        "\n"
      ]
    },
    {
      "cell_type": "code",
      "metadata": {
        "id": "WCxNYLZCiPBv"
      },
      "source": [
        "planilha = gc.open('Worksheet Integrated with Python and Excel Workspace') #Abrindo uma Planilha"
      ],
      "execution_count": null,
      "outputs": []
    },
    {
      "cell_type": "markdown",
      "metadata": {
        "id": "rDKWpgBOuVSF"
      },
      "source": [
        "### Realizando a Autenticação com a Planilha \n",
        "`(Primeiro acesso do dia)`"
      ]
    },
    {
      "cell_type": "code",
      "metadata": {
        "colab": {
          "base_uri": "https://localhost:8080/"
        },
        "id": "Hq5Rr3-9CCKX",
        "outputId": "73632fd0-5872-449f-f7e8-652e4cef5ec4"
      },
      "source": [
        "from google.colab import drive\n",
        "drive.mount('/content/drive')"
      ],
      "execution_count": null,
      "outputs": [
        {
          "output_type": "stream",
          "text": [
            "Mounted at /content/drive\n"
          ],
          "name": "stdout"
        }
      ]
    },
    {
      "cell_type": "markdown",
      "metadata": {
        "id": "UtRICcfNaMOq"
      },
      "source": [
        "### Selecionando uma Página (Selecionando a Aba que será usada) \n",
        "`(Primeiro acesso do dia)`"
      ]
    },
    {
      "cell_type": "code",
      "metadata": {
        "id": "BMNOIhJKjIQL"
      },
      "source": [
        "nova_pagina = planilha.get_worksheet(0)"
      ],
      "execution_count": null,
      "outputs": []
    },
    {
      "cell_type": "markdown",
      "metadata": {
        "id": "TQGrRsityZoe"
      },
      "source": [
        "# Extraindo dados dos Ativos \n",
        "`(Trabalhando/Extraindo os Dados para Update)`"
      ]
    },
    {
      "cell_type": "code",
      "metadata": {
        "id": "GG4uiXY3ZWZz"
      },
      "source": [
        "start = datetime.datetime(2018,1,1)\n",
        "end = datetime.datetime(2020,1,1)"
      ],
      "execution_count": null,
      "outputs": []
    },
    {
      "cell_type": "code",
      "metadata": {
        "id": "OZR0YHS9ZZQh"
      },
      "source": [
        "petr = dt.get_data_yahoo('petr4.sa', start, end)['Adj Close']\n",
        "vale = dt.get_data_yahoo('vale3.sa', start, end)['Adj Close']\n",
        "itub = dt.get_data_yahoo('itub4.sa', start, end)['Adj Close']\n",
        "wege = dt.get_data_yahoo('wege3.sa', start, end)['Adj Close']\n",
        "ibov = dt.get_data_yahoo('^bvsp', start, end)['Adj Close']"
      ],
      "execution_count": null,
      "outputs": []
    },
    {
      "cell_type": "code",
      "metadata": {
        "colab": {
          "base_uri": "https://localhost:8080/"
        },
        "id": "Z9K-k3a3ZdDK",
        "outputId": "ddb15382-d9c7-499a-cb0e-5e1d449f595b"
      },
      "source": [
        "petr.tail()"
      ],
      "execution_count": null,
      "outputs": [
        {
          "output_type": "execute_result",
          "data": {
            "text/plain": [
              "Date\n",
              "2019-12-20    28.872976\n",
              "2019-12-23    29.101973\n",
              "2019-12-26    29.493183\n",
              "2019-12-27    29.524082\n",
              "2019-12-30    29.195175\n",
              "Name: Adj Close, dtype: float64"
            ]
          },
          "metadata": {
            "tags": []
          },
          "execution_count": 32
        }
      ]
    },
    {
      "cell_type": "code",
      "metadata": {
        "id": "GAIocdGDZ7lu"
      },
      "source": [
        "petr4=petr.mean()\n"
      ],
      "execution_count": null,
      "outputs": []
    },
    {
      "cell_type": "code",
      "metadata": {
        "colab": {
          "base_uri": "https://localhost:8080/"
        },
        "id": "DtRSCaCHdfIk",
        "outputId": "47ff4080-c496-4a1d-8800-1193ebf34106"
      },
      "source": [
        "grafpetr =petr.plot(figsize=(8,5)) # OBS. Lista não consegue receber figuras"
      ],
      "execution_count": null,
      "outputs": [
        {
          "output_type": "display_data",
          "data": {
            "image/png": "[encoded data removed]",
            "text/plain": [
              "<Figure size 576x360 with 1 Axes>"
            ]
          },
          "metadata": {
            "tags": []
          }
        }
      ]
    },
    {
      "cell_type": "code",
      "metadata": {
        "id": "9pNH8hZuebZ9"
      },
      "source": [
        "petrret = petr.mean() * 250"
      ],
      "execution_count": null,
      "outputs": []
    },
    {
      "cell_type": "code",
      "metadata": {
        "id": "pINo-eyHfWkL"
      },
      "source": [
        "val = vale.mean() * 250"
      ],
      "execution_count": null,
      "outputs": []
    },
    {
      "cell_type": "markdown",
      "metadata": {
        "id": "uFNxvi95xS1g"
      },
      "source": [
        "# Tipos de Updagte (pelo código da célula, pelos números da linha e coluna, por uma lista de valores)"
      ]
    },
    {
      "cell_type": "markdown",
      "metadata": {
        "id": "Fr1mLethlDIF"
      },
      "source": [
        "### Update Pelos Números da Linha e Coluna \n",
        "`(Update Unitário)`"
      ]
    },
    {
      "cell_type": "code",
      "metadata": {
        "colab": {
          "base_uri": "https://localhost:8080/"
        },
        "id": "1eU9gm3qZtya",
        "outputId": "1de0f94e-569a-49d7-916f-0db8c2d874e5"
      },
      "source": [
        "                 # Linha , Coluna, 'O qua vai ser alterado'\n",
        "nova_pagina.update_cell(2,7, '=RTD(\"rtdtrading.rtdserver\";; $A2; \"ULT\")') #update_cell: pelos números da linha e coluna"
      ],
      "execution_count": null,
      "outputs": [
        {
          "output_type": "execute_result",
          "data": {
            "text/plain": [
              "{'spreadsheetId': '1J_oaKfgGT_X3vQLDeUPbxCGmjEsZ8iL4tkoLsEBuoEU',\n",
              " 'updatedCells': 1,\n",
              " 'updatedColumns': 1,\n",
              " 'updatedRange': 'nova_pagina!G2',\n",
              " 'updatedRows': 1}"
            ]
          },
          "metadata": {
            "tags": []
          },
          "execution_count": 11
        }
      ]
    },
    {
      "cell_type": "markdown",
      "metadata": {
        "id": "S4Rc1dgbxrcA"
      },
      "source": [
        "### **Update Pelo código da célula** \n",
        "`(Update Unitário)`\n",
        "\n"
      ]
    },
    {
      "cell_type": "code",
      "metadata": {
        "colab": {
          "base_uri": "https://localhost:8080/"
        },
        "id": "9w9LPmdRZtuQ",
        "outputId": "f82249da-f14b-4258-a332-a63c5dfcbe0d"
      },
      "source": [
        "nova_pagina.update_acell('f2', 10)  #update_acell(): pelo código da célula"
      ],
      "execution_count": null,
      "outputs": [
        {
          "output_type": "execute_result",
          "data": {
            "text/plain": [
              "{'spreadsheetId': '1J_oaKfgGT_X3vQLDeUPbxCGmjEsZ8iL4tkoLsEBuoEU',\n",
              " 'updatedCells': 1,\n",
              " 'updatedColumns': 1,\n",
              " 'updatedRange': 'nova_pagina!F2',\n",
              " 'updatedRows': 1}"
            ]
          },
          "metadata": {
            "tags": []
          },
          "execution_count": 37
        }
      ]
    },
    {
      "cell_type": "markdown",
      "metadata": {
        "id": "tldCxUqWlQBc"
      },
      "source": [
        "### **Update Por uma Lista de Valores (Criando Lista)** \n",
        "`(Update Multiplos - Parte 1)`\n",
        "\n"
      ]
    },
    {
      "cell_type": "code",
      "metadata": {
        "colab": {
          "base_uri": "https://localhost:8080/"
        },
        "id": "ME3vC5O8bgR9",
        "outputId": "dd319c4a-394a-4b4e-9365-a07a291a0f60"
      },
      "source": [
        "lista_cel = nova_pagina.range('a2:a267') #update_cells(): por uma lista de valores\n",
        "lista_cel"
      ],
      "execution_count": null,
      "outputs": [
        {
          "output_type": "execute_result",
          "data": {
            "text/plain": [
              "[<Cell R2C1 'Petrobras'>,\n",
              " <Cell R3C1 ''>,\n",
              " <Cell R4C1 ''>,\n",
              " <Cell R5C1 ''>,\n",
              " <Cell R6C1 ''>,\n",
              " <Cell R7C1 ''>,\n",
              " <Cell R8C1 ''>,\n",
              " <Cell R9C1 ''>,\n",
              " <Cell R10C1 ''>,\n",
              " <Cell R11C1 ''>,\n",
              " <Cell R12C1 ''>,\n",
              " <Cell R13C1 ''>,\n",
              " <Cell R14C1 ''>,\n",
              " <Cell R15C1 ''>,\n",
              " <Cell R16C1 ''>,\n",
              " <Cell R17C1 ''>,\n",
              " <Cell R18C1 ''>,\n",
              " <Cell R19C1 ''>,\n",
              " <Cell R20C1 ''>,\n",
              " <Cell R21C1 ''>,\n",
              " <Cell R22C1 ''>,\n",
              " <Cell R23C1 ''>,\n",
              " <Cell R24C1 ''>,\n",
              " <Cell R25C1 ''>,\n",
              " <Cell R26C1 ''>,\n",
              " <Cell R27C1 ''>,\n",
              " <Cell R28C1 ''>,\n",
              " <Cell R29C1 ''>,\n",
              " <Cell R30C1 ''>,\n",
              " <Cell R31C1 ''>,\n",
              " <Cell R32C1 ''>,\n",
              " <Cell R33C1 ''>,\n",
              " <Cell R34C1 ''>,\n",
              " <Cell R35C1 ''>,\n",
              " <Cell R36C1 ''>,\n",
              " <Cell R37C1 ''>,\n",
              " <Cell R38C1 ''>,\n",
              " <Cell R39C1 ''>,\n",
              " <Cell R40C1 ''>,\n",
              " <Cell R41C1 ''>,\n",
              " <Cell R42C1 ''>,\n",
              " <Cell R43C1 ''>,\n",
              " <Cell R44C1 ''>,\n",
              " <Cell R45C1 ''>,\n",
              " <Cell R46C1 ''>,\n",
              " <Cell R47C1 ''>,\n",
              " <Cell R48C1 ''>,\n",
              " <Cell R49C1 ''>,\n",
              " <Cell R50C1 ''>,\n",
              " <Cell R51C1 ''>,\n",
              " <Cell R52C1 ''>,\n",
              " <Cell R53C1 ''>,\n",
              " <Cell R54C1 ''>,\n",
              " <Cell R55C1 ''>,\n",
              " <Cell R56C1 ''>,\n",
              " <Cell R57C1 ''>,\n",
              " <Cell R58C1 ''>,\n",
              " <Cell R59C1 ''>,\n",
              " <Cell R60C1 ''>,\n",
              " <Cell R61C1 ''>,\n",
              " <Cell R62C1 ''>,\n",
              " <Cell R63C1 ''>,\n",
              " <Cell R64C1 ''>,\n",
              " <Cell R65C1 ''>,\n",
              " <Cell R66C1 ''>,\n",
              " <Cell R67C1 ''>,\n",
              " <Cell R68C1 ''>,\n",
              " <Cell R69C1 ''>,\n",
              " <Cell R70C1 ''>,\n",
              " <Cell R71C1 ''>,\n",
              " <Cell R72C1 ''>,\n",
              " <Cell R73C1 ''>,\n",
              " <Cell R74C1 ''>,\n",
              " <Cell R75C1 ''>,\n",
              " <Cell R76C1 ''>,\n",
              " <Cell R77C1 ''>,\n",
              " <Cell R78C1 ''>,\n",
              " <Cell R79C1 ''>,\n",
              " <Cell R80C1 ''>,\n",
              " <Cell R81C1 ''>,\n",
              " <Cell R82C1 ''>,\n",
              " <Cell R83C1 ''>,\n",
              " <Cell R84C1 ''>,\n",
              " <Cell R85C1 ''>,\n",
              " <Cell R86C1 ''>,\n",
              " <Cell R87C1 ''>,\n",
              " <Cell R88C1 ''>,\n",
              " <Cell R89C1 ''>,\n",
              " <Cell R90C1 ''>,\n",
              " <Cell R91C1 ''>,\n",
              " <Cell R92C1 ''>,\n",
              " <Cell R93C1 ''>,\n",
              " <Cell R94C1 ''>,\n",
              " <Cell R95C1 ''>,\n",
              " <Cell R96C1 ''>,\n",
              " <Cell R97C1 ''>,\n",
              " <Cell R98C1 ''>,\n",
              " <Cell R99C1 ''>,\n",
              " <Cell R100C1 ''>,\n",
              " <Cell R101C1 ''>,\n",
              " <Cell R102C1 ''>,\n",
              " <Cell R103C1 ''>,\n",
              " <Cell R104C1 ''>,\n",
              " <Cell R105C1 ''>,\n",
              " <Cell R106C1 ''>,\n",
              " <Cell R107C1 ''>,\n",
              " <Cell R108C1 ''>,\n",
              " <Cell R109C1 ''>,\n",
              " <Cell R110C1 ''>,\n",
              " <Cell R111C1 ''>,\n",
              " <Cell R112C1 ''>,\n",
              " <Cell R113C1 ''>,\n",
              " <Cell R114C1 ''>,\n",
              " <Cell R115C1 ''>,\n",
              " <Cell R116C1 ''>,\n",
              " <Cell R117C1 ''>,\n",
              " <Cell R118C1 ''>,\n",
              " <Cell R119C1 ''>,\n",
              " <Cell R120C1 ''>,\n",
              " <Cell R121C1 ''>,\n",
              " <Cell R122C1 ''>,\n",
              " <Cell R123C1 ''>,\n",
              " <Cell R124C1 ''>,\n",
              " <Cell R125C1 ''>,\n",
              " <Cell R126C1 ''>,\n",
              " <Cell R127C1 ''>,\n",
              " <Cell R128C1 ''>,\n",
              " <Cell R129C1 ''>,\n",
              " <Cell R130C1 ''>,\n",
              " <Cell R131C1 ''>,\n",
              " <Cell R132C1 ''>,\n",
              " <Cell R133C1 ''>,\n",
              " <Cell R134C1 ''>,\n",
              " <Cell R135C1 ''>,\n",
              " <Cell R136C1 ''>,\n",
              " <Cell R137C1 ''>,\n",
              " <Cell R138C1 ''>,\n",
              " <Cell R139C1 ''>,\n",
              " <Cell R140C1 ''>,\n",
              " <Cell R141C1 ''>,\n",
              " <Cell R142C1 ''>,\n",
              " <Cell R143C1 ''>,\n",
              " <Cell R144C1 ''>,\n",
              " <Cell R145C1 ''>,\n",
              " <Cell R146C1 ''>,\n",
              " <Cell R147C1 ''>,\n",
              " <Cell R148C1 ''>,\n",
              " <Cell R149C1 ''>,\n",
              " <Cell R150C1 ''>,\n",
              " <Cell R151C1 ''>,\n",
              " <Cell R152C1 ''>,\n",
              " <Cell R153C1 ''>,\n",
              " <Cell R154C1 ''>,\n",
              " <Cell R155C1 ''>,\n",
              " <Cell R156C1 ''>,\n",
              " <Cell R157C1 ''>,\n",
              " <Cell R158C1 ''>,\n",
              " <Cell R159C1 ''>,\n",
              " <Cell R160C1 ''>,\n",
              " <Cell R161C1 ''>,\n",
              " <Cell R162C1 ''>,\n",
              " <Cell R163C1 ''>,\n",
              " <Cell R164C1 ''>,\n",
              " <Cell R165C1 ''>,\n",
              " <Cell R166C1 ''>,\n",
              " <Cell R167C1 ''>,\n",
              " <Cell R168C1 ''>,\n",
              " <Cell R169C1 ''>,\n",
              " <Cell R170C1 ''>,\n",
              " <Cell R171C1 ''>,\n",
              " <Cell R172C1 ''>,\n",
              " <Cell R173C1 ''>,\n",
              " <Cell R174C1 ''>,\n",
              " <Cell R175C1 ''>,\n",
              " <Cell R176C1 ''>,\n",
              " <Cell R177C1 ''>,\n",
              " <Cell R178C1 ''>,\n",
              " <Cell R179C1 ''>,\n",
              " <Cell R180C1 ''>,\n",
              " <Cell R181C1 ''>,\n",
              " <Cell R182C1 ''>,\n",
              " <Cell R183C1 ''>,\n",
              " <Cell R184C1 ''>,\n",
              " <Cell R185C1 ''>,\n",
              " <Cell R186C1 ''>,\n",
              " <Cell R187C1 ''>,\n",
              " <Cell R188C1 ''>,\n",
              " <Cell R189C1 ''>,\n",
              " <Cell R190C1 ''>,\n",
              " <Cell R191C1 ''>,\n",
              " <Cell R192C1 ''>,\n",
              " <Cell R193C1 ''>,\n",
              " <Cell R194C1 ''>,\n",
              " <Cell R195C1 ''>,\n",
              " <Cell R196C1 ''>,\n",
              " <Cell R197C1 ''>,\n",
              " <Cell R198C1 ''>,\n",
              " <Cell R199C1 ''>,\n",
              " <Cell R200C1 ''>,\n",
              " <Cell R201C1 ''>,\n",
              " <Cell R202C1 ''>,\n",
              " <Cell R203C1 ''>,\n",
              " <Cell R204C1 ''>,\n",
              " <Cell R205C1 ''>,\n",
              " <Cell R206C1 ''>,\n",
              " <Cell R207C1 ''>,\n",
              " <Cell R208C1 ''>,\n",
              " <Cell R209C1 ''>,\n",
              " <Cell R210C1 ''>,\n",
              " <Cell R211C1 ''>,\n",
              " <Cell R212C1 ''>,\n",
              " <Cell R213C1 ''>,\n",
              " <Cell R214C1 ''>,\n",
              " <Cell R215C1 ''>,\n",
              " <Cell R216C1 ''>,\n",
              " <Cell R217C1 ''>,\n",
              " <Cell R218C1 ''>,\n",
              " <Cell R219C1 ''>,\n",
              " <Cell R220C1 ''>,\n",
              " <Cell R221C1 ''>,\n",
              " <Cell R222C1 ''>,\n",
              " <Cell R223C1 ''>,\n",
              " <Cell R224C1 ''>,\n",
              " <Cell R225C1 ''>,\n",
              " <Cell R226C1 ''>,\n",
              " <Cell R227C1 ''>,\n",
              " <Cell R228C1 ''>,\n",
              " <Cell R229C1 ''>,\n",
              " <Cell R230C1 ''>,\n",
              " <Cell R231C1 ''>,\n",
              " <Cell R232C1 ''>,\n",
              " <Cell R233C1 ''>,\n",
              " <Cell R234C1 ''>,\n",
              " <Cell R235C1 ''>,\n",
              " <Cell R236C1 ''>,\n",
              " <Cell R237C1 ''>,\n",
              " <Cell R238C1 ''>,\n",
              " <Cell R239C1 ''>,\n",
              " <Cell R240C1 ''>,\n",
              " <Cell R241C1 ''>,\n",
              " <Cell R242C1 ''>,\n",
              " <Cell R243C1 ''>,\n",
              " <Cell R244C1 ''>,\n",
              " <Cell R245C1 ''>,\n",
              " <Cell R246C1 ''>,\n",
              " <Cell R247C1 ''>,\n",
              " <Cell R248C1 ''>,\n",
              " <Cell R249C1 ''>,\n",
              " <Cell R250C1 ''>,\n",
              " <Cell R251C1 ''>,\n",
              " <Cell R252C1 ''>,\n",
              " <Cell R253C1 ''>,\n",
              " <Cell R254C1 ''>,\n",
              " <Cell R255C1 ''>,\n",
              " <Cell R256C1 ''>,\n",
              " <Cell R257C1 ''>,\n",
              " <Cell R258C1 ''>,\n",
              " <Cell R259C1 ''>,\n",
              " <Cell R260C1 ''>,\n",
              " <Cell R261C1 ''>,\n",
              " <Cell R262C1 ''>,\n",
              " <Cell R263C1 ''>,\n",
              " <Cell R264C1 ''>,\n",
              " <Cell R265C1 ''>,\n",
              " <Cell R266C1 ''>,\n",
              " <Cell R267C1 ''>]"
            ]
          },
          "metadata": {
            "tags": []
          },
          "execution_count": 9
        }
      ]
    },
    {
      "cell_type": "markdown",
      "metadata": {
        "id": "LsVyXaylyjy2"
      },
      "source": [
        "### Lista Recebendo Valores por um For \"Laço\" \n",
        "`(Update Multiplos - Parte 2)`"
      ]
    },
    {
      "cell_type": "code",
      "metadata": {
        "id": "fDF-oFOznejR"
      },
      "source": [
        "valores = [\"ABEV3\",\n",
        "\"BBDC4\",\n",
        "\"ITUB4\",\n",
        "\"MGLU3\",\n",
        "\"SUZB3\",\n",
        "\"WEGE3\",\n",
        "\"CSNA3\",\n",
        "\"IRBR3\",\n",
        "\"PRIO3\",\n",
        "\"VVAR3\",\n",
        "\"ALPA4\",\n",
        "\"ALSO3\",\n",
        "\"AMAR3\",\n",
        "\"AZUL4\",\n",
        "\"B3SA3\",\n",
        "\"BBAS3\",\n",
        "\"BBDC3\",\n",
        "\"BBSE3\",\n",
        "\"BEEF3\",\n",
        "\"BOVA11\",\n",
        "\"BPAC11\",\n",
        "\"BRAP4\",\n",
        "\"BRDT3\",\n",
        "\"BRFS3\",\n",
        "\"BRKM5\",\n",
        "\"BRML3\",\n",
        "\"BTOW3\",\n",
        "\"CCRO3\",\n",
        "\"CESP6\",\n",
        "\"CIEL3\",\n",
        "\"CMIG4\",\n",
        "\"COGN3\",\n",
        "\"CPFE3\",\n",
        "\"CPLE6\",\n",
        "\"CRFB3\",\n",
        "\"CSAN3\",\n",
        "\"CSMG3\",\n",
        "\"CVCB3\",\n",
        "\"CYRE3\",\n",
        "\"DTEX3\",\n",
        "\"ECOR3\",\n",
        "\"EGIE3\",\n",
        "\"ELET3\",\n",
        "\"ELET6\",\n",
        "\"EMBR3\",\n",
        "\"ENBR3\",\n",
        "\"ENEV3\",\n",
        "\"ENGI11\",\n",
        "\"EQTL3\",\n",
        "\"EZTC3\",\n",
        "\"FLRY3\",\n",
        "\"GGBR4\",\n",
        "\"GNDI3\",\n",
        "\"GOAU4\",\n",
        "\"GOLL4\",\n",
        "\"HAPV3\",\n",
        "\"HGTX3\",\n",
        "\"HYPE3\",\n",
        "\"IGTA3\",\n",
        "\"ITSA4\",\n",
        "\"JBSS3\",\n",
        "\"JHSF3\",\n",
        "\"KLBN11\",\n",
        "\"LAME3\",\n",
        "\"LAME4\",\n",
        "\"LCAM3\",\n",
        "\"LIGT3\",\n",
        "\"LINX3\",\n",
        "\"LREN3\",\n",
        "\"LWSA3\",\n",
        "\"MDIA3\",\n",
        "\"MEAL3\",\n",
        "\"MOVI3\",\n",
        "\"MRFG3\",\n",
        "\"MRVE3\",\n",
        "\"MULT3\",\n",
        "\"NEOE3\",\n",
        "\"NTCO3\",\n",
        "\"PCAR3\",\n",
        "\"PETR3\",\n",
        "\"PETR4\",\n",
        "\"PSSA3\",\n",
        "\"QUAL3\",\n",
        "\"RADL3\",\n",
        "\"RAIL3\",\n",
        "\"RAPT4\",\n",
        "\"RENT3\",\n",
        "\"SANB11\",\n",
        "\"SAPR11\",\n",
        "\"SBFG3\",\n",
        "\"SBSP3\",\n",
        "\"SULA11\",\n",
        "\"TAEE11\",\n",
        "\"TOTS3\",\n",
        "\"TRPL4\",\n",
        "\"UGPA3\",\n",
        "\"USIM5\",\n",
        "\"VALE3\",\n",
        "\"VIVT3\",\n",
        "\"YDUQ3\",\n",
        "\"BIDI4\",\n",
        "\"OIBR3\",\n",
        "\"TIMP3\",\n",
        "\"VIVT4\",\n",
        "\"ABCB4\",\n",
        "\"ALUP11\",\n",
        "\"ARZZ3\",\n",
        "\"BIDI11\",\n",
        "\"BKBR3\",\n",
        "\"BPAN4\",\n",
        "\"BRSR6\",\n",
        "\"CMIG3\",\n",
        "\"EVEN3\",\n",
        "\"GFSA3\",\n",
        "\"GRND3\",\n",
        "\"GUAR3\",\n",
        "\"ITUB3\",\n",
        "\"MYPK3\",\n",
        "\"ODPV3\",\n",
        "\"POMO4\",\n",
        "\"SEER3\",\n",
        "\"SLCE3\",\n",
        "\"SMAL11\",\n",
        "\"SMLS3\",\n",
        "\"SMTO3\",\n",
        "\"STBP3\",\n",
        "\"TCSA3\",\n",
        "\"TEND3\",\n",
        "\"TIET11\",\n",
        "\"TUPY3\",\n",
        "\"ANIM3\",\n",
        "\"BBPO11\",\n",
        "\"BRPR3\",\n",
        "\"CAML3\",\n",
        "\"CPLE3\",\n",
        "\"DIRR3\",\n",
        "\"ENAT3\",\n",
        "\"HBOR3\",\n",
        "\"KLBN4\",\n",
        "\"LEVE3\",\n",
        "\"LOGN3\",\n",
        "\"LPSB3\",\n",
        "\"MILS3\",\n",
        "\"MXRF11\",\n",
        "\"OMGE3\",\n",
        "\"PARD3\",\n",
        "\"PTBL3\",\n",
        "\"RLOG3\",\n",
        "\"SAPR4\",\n",
        "\"SIMH3\",\n",
        "\"TGMA3\",\n",
        "\"TRIS3\",\n",
        "\"VLID3\",\n",
        "\"VRTA11\",\n",
        "\"VULC3\",\n",
        "\"WIZS3\",\n",
        "\"AALR3\",\n",
        "\"BLAU3\",\n",
        "\"BMGB4\",\n",
        "\"BMOB3\",\n",
        "\"CASH3\",\n",
        "\"CEAB3\",\n",
        "\"CMIN3\",\n",
        "\"CSED3\",\n",
        "\"CURY3\",\n",
        "\"DMVF3\",\n",
        "\"ELMD3\",\n",
        "\"ENJU3\",\n",
        "\"ESPA3\",\n",
        "\"FESA4\",\n",
        "\"GGPS3\",\n",
        "\"GMAT3\",\n",
        "\"GSHP3\",\n",
        "\"ITSA3\",\n",
        "\"LAVV3\",\n",
        "\"LJQQ3\",\n",
        "\"LOGG3\",\n",
        "\"LUPA3\",\n",
        "\"MATD3\",\n",
        "\"MDNE3\",\n",
        "\"MELK3\",\n",
        "\"MTRE3\",\n",
        "\"OIBR4\",\n",
        "\"OPCT3\",\n",
        "\"ORVR3\",\n",
        "\"PDGR3\",\n",
        "\"PETZ3\",\n",
        "\"PFRM3\",\n",
        "\"PGMN3\",\n",
        "\"PIBB11\",\n",
        "\"POSI3\",\n",
        "\"RDOR3\",\n",
        "\"ROMI3\",\n",
        "\"SEQL3\",\n",
        "\"SGPS3\",\n",
        "\"SHOW3\",\n",
        "\"SHUL4\",\n",
        "\"SOMA3\",\n",
        "\"TASA4\",\n",
        "\"TFCO4\",\n",
        "\"TPIS3\",\n",
        "\"UNIP6\",\n",
        "\"VAMO3\",\n",
        "\"VIVA3\",\n",
        "\"WEST3\",\n",
        "\"AGRO3\",\n",
        "\"CARD3\",\n",
        "\"COCE5\",\n",
        "\"ETER3\",\n",
        "\"EUCA4\",\n",
        "\"FHER3\",\n",
        "\"FRAS3\",\n",
        "\"GGBR3\",\n",
        "\"KEPL3\",\n",
        "\"LLIS3\",\n",
        "\"PINE4\",\n",
        "\"RPMG3\",\n",
        "\"RSID3\",\n",
        "\"SANB4\",\n",
        "\"SLED4\",\n",
        "\"SSBR3\",\n",
        "\"TECN3\",\n",
        "\"TRXL11\",\n",
        "\"UCAS3\",\n",
        "\"AMBP3\",\n",
        "\"ALPA3\",\n",
        "\"ATOM3\",\n",
        "\"BIOM3\",\n",
        "\"BPHA3\",\n",
        "\"CGRA4\",\n",
        "\"CTNM4\",\n",
        "\"MPLU3\",\n",
        "\"PDTC3\",\n",
        "\"PLAS3\",\n",
        "\"PMAM3\",\n",
        "\"QGEP3\",\n",
        "\"RNEW11\",\n",
        "\"SCAR3\",\n",
        "\"TCNO3\",\n",
        "\"TCNO4\",\n",
        "\"TF0Z99\",\n",
        "\"TF1Z99\",\n",
        "\"TF2Z99\",\n",
        "\"TF473\",\n",
        "\"TF483\",\n",
        "\"TF493\",\n",
        "\"TF4Z99\",\n",
        "\"TF503\",\n",
        "\"TF513\",\n",
        "\"TF523\",\n",
        "\"TF533\",\n",
        "\"TF543\",\n",
        "\"TF553\",\n",
        "\"TF563\",\n",
        "\"TF573\",\n",
        "\"TF583\",\n",
        "\"TF593\",\n",
        "\"TF5Z99\",\n",
        "\"TF603\",\n",
        "\"TF623\",\n",
        "\"TF6Z99\",\n",
        "\"TF7Z99\",\n",
        "\"TF8Z99\",\n",
        "\"TF9Z99\",\n",
        "\"TRPN3\",\n",
        "\"USIM3\"]\n",
        "\n",
        "for i, valor in enumerate(valores):\n",
        "  lista_cel[i].value = valor\n",
        "\n",
        "#lista_cel   -> Se quiser exibir a lista apos a excução do for é só retirar o #"
      ],
      "execution_count": null,
      "outputs": []
    },
    {
      "cell_type": "markdown",
      "metadata": {
        "id": "aIYRsgbWzlZt"
      },
      "source": [
        "### Fazendo o Update da Lista"
      ]
    },
    {
      "cell_type": "code",
      "metadata": {
        "colab": {
          "base_uri": "https://localhost:8080/",
          "height": 163
        },
        "id": "litmy4_xnGKx",
        "outputId": "75dc1b27-006b-435f-a664-34825318ba7d"
      },
      "source": [
        "nova_pagina.update_cells(lista_cel)"
      ],
      "execution_count": null,
      "outputs": [
        {
          "output_type": "error",
          "ename": "NameError",
          "evalue": "ignored",
          "traceback": [
            "\u001b[0;31m---------------------------------------------------------------------------\u001b[0m",
            "\u001b[0;31mNameError\u001b[0m                                 Traceback (most recent call last)",
            "\u001b[0;32m<ipython-input-10-8414fa16971a>\u001b[0m in \u001b[0;36m<module>\u001b[0;34m()\u001b[0m\n\u001b[0;32m----> 1\u001b[0;31m \u001b[0mnova_pagina\u001b[0m\u001b[0;34m.\u001b[0m\u001b[0mupdate_cells\u001b[0m\u001b[0;34m(\u001b[0m\u001b[0mlista_cel\u001b[0m\u001b[0;34m)\u001b[0m\u001b[0;34m\u001b[0m\u001b[0;34m\u001b[0m\u001b[0m\n\u001b[0m",
            "\u001b[0;31mNameError\u001b[0m: name 'lista_cel' is not defined"
          ]
        }
      ]
    },
    {
      "cell_type": "markdown",
      "metadata": {
        "id": "b_VGRFcnMUtB"
      },
      "source": [
        "# Acessando Planilha para Exibir seus Valores Aqui"
      ]
    },
    {
      "cell_type": "markdown",
      "metadata": {
        "id": "SBhdOwyf08PC"
      },
      "source": [
        "### Realizando a Autenticação da Planilha"
      ]
    },
    {
      "cell_type": "code",
      "metadata": {
        "id": "WI3QTcu6Oj5K"
      },
      "source": [
        "fis = pd.read_html('https://docs.google.com/spreadsheets/d/e/2PACX-1vQ76CLDTkNjD5Rxy1q-X37x8U6Y1nR9N1bGQDKpvbGrKv1XCMB4iuRshlWpS2jPA7e5VkU8ioXjwd7r/pubhtml')"
      ],
      "execution_count": null,
      "outputs": []
    },
    {
      "cell_type": "markdown",
      "metadata": {
        "id": "oRwkB_7p1KpV"
      },
      "source": [
        "### Exibindo Planilha"
      ]
    },
    {
      "cell_type": "code",
      "metadata": {
        "colab": {
          "base_uri": "https://localhost:8080/"
        },
        "id": "7RTtgPxgMv5b",
        "outputId": "df42c103-b686-4172-adc9-b6e3026df0c3"
      },
      "source": [
        "fis  \n",
        "#Obs. Como a planilha não é um excel nem um scv o DataTable não lee por isso não dá para ver como planilha dinânica"
      ],
      "execution_count": null,
      "outputs": [
        {
          "output_type": "execute_result",
          "data": {
            "text/plain": [
              "[     Unnamed: 0 Unnamed: 1 Unnamed: 2  ... Unnamed: 6  Unnamed: 7 Unnamed: 8\n",
              " 0             1      Ativo    MÃ­nima  ...   Abertura  Fechamento     Ultima\n",
              " 1             2      ABEV3  223169872  ...        NaN         NaN        NaN\n",
              " 2             3      BBDC4        NaN  ...        NaN         NaN        NaN\n",
              " 3             4      ITUB4        NaN  ...        NaN         NaN        NaN\n",
              " 4             5      MGLU3        NaN  ...        NaN         NaN        NaN\n",
              " ..          ...        ...        ...  ...        ...         ...        ...\n",
              " 262         263     TF7Z99        NaN  ...        NaN         NaN        NaN\n",
              " 263         264     TF8Z99        NaN  ...        NaN         NaN        NaN\n",
              " 264         265     TF9Z99        NaN  ...        NaN         NaN        NaN\n",
              " 265         266      TRPN3        NaN  ...        NaN         NaN        NaN\n",
              " 266         267      USIM3        NaN  ...        NaN         NaN        NaN\n",
              " \n",
              " [267 rows x 9 columns]]"
            ]
          },
          "metadata": {
            "tags": []
          },
          "execution_count": 15
        }
      ]
    }
  ]
}